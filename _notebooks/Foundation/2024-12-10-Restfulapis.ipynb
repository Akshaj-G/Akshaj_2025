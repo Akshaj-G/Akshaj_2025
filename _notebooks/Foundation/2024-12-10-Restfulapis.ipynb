{
 "cells": [
  {
   "cell_type": "raw",
   "metadata": {
    "vscode": {
     "languageId": "raw"
    }
   },
   "source": [
    "---\n",
    "title: RESTFUL API\n",
    "---"
   ]
  },
  {
   "cell_type": "markdown",
   "metadata": {},
   "source": [
    "# Step 2"
   ]
  },
  {
   "cell_type": "markdown",
   "metadata": {},
   "source": [
    "```python\n",
    "from flask import Blueprint, request, jsonify, g\n",
    "from flask_restful import Api, Resource\n",
    "\n",
    "akshaj_api = Blueprint('akshaj_api', __name__, url_prefix='/api')\n",
    "api = Api(akshaj_api)\n",
    "\n",
    "class AkshajAPI:\n",
    "    class _A_Person(Resource):\n",
    "        def get(self):\n",
    "            return jsonify({\n",
    "                \"name\": \"Akshaj Gurugugelli\",\n",
    "                \"age\": 15,\n",
    "                \"classes\": [\"HPOE\", \"AP CSP\", \"World History\", \"AP Calc\", \"APES\"],\n",
    "                \"favorite\": {\n",
    "                    \"color\": \"Blue\",\n",
    "                    \"number\": 1\n",
    "                }\n",
    "            })\n",
    "    \n",
    "    \n",
    "api.add_resource(AkshajAPI._A_Person, \"/akshaj\")\n",
    "\n",
    "```"
   ]
  },
  {
   "cell_type": "markdown",
   "metadata": {
    "vscode": {
     "languageId": "html"
    }
   },
   "source": [
    "<img src= \"/Akshaj_2025/images/restful_api/API5.png\" />"
   ]
  }
 ],
 "metadata": {
  "kernelspec": {
   "display_name": "venv",
   "language": "python",
   "name": "python3"
  },
  "language_info": {
   "codemirror_mode": {
    "name": "ipython",
    "version": 3
   },
   "file_extension": ".py",
   "mimetype": "text/x-python",
   "name": "python",
   "nbconvert_exporter": "python",
   "pygments_lexer": "ipython3",
   "version": "3.12.5"
  }
 },
 "nbformat": 4,
 "nbformat_minor": 2
}
