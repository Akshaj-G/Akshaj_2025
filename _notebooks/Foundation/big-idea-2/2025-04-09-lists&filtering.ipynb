{
 "cells": [
  {
   "cell_type": "raw",
   "metadata": {
    "vscode": {
     "languageId": "raw"
    }
   },
   "source": [
    "---\n",
    "layout: post\n",
    "title: Lists & Filtering\n",
    "description: Akshaj's Popcorn page\n",
    "categories: [DevOps, JavaScript, Python]\n",
    "permalink: /lists&filtering\n",
    "toc: true\n",
    "comments: true\n",
    "---"
   ]
  },
  {
   "cell_type": "markdown",
   "metadata": {},
   "source": [
    "# Popcorn Hacks"
   ]
  },
  {
   "cell_type": "code",
   "execution_count": 4,
   "metadata": {},
   "outputs": [],
   "source": [
    "import pandas as pd\n",
    "\n",
    "# Create a sample dataset\n",
    "student_data = pd.DataFrame({\n",
    "    'Name': ['Alice', 'Bob', 'Charlie', 'David', 'Eva', 'Frank'],\n",
    "    'Score': [95, 82, 67, 88, 74, 59]\n",
    "})"
   ]
  },
  {
   "cell_type": "code",
   "execution_count": 6,
   "metadata": {},
   "outputs": [
    {
     "name": "stdout",
     "output_type": "stream",
     "text": [
      "Students with scores between 80 and 90:\n",
      "    Name  Score\n",
      "1    Bob     82\n",
      "3  David     88\n"
     ]
    }
   ],
   "source": [
    "def find_students_in_range(df, min_score, max_score):\n",
    "    return df[(df['Score'] >= min_score) & (df['Score'] <= max_score)]\n",
    "\n",
    "# Test it\n",
    "print(\"Students with scores between 80 and 90:\")\n",
    "print(find_students_in_range(student_data, 80, 90))"
   ]
  },
  {
   "cell_type": "code",
   "execution_count": 7,
   "metadata": {},
   "outputs": [
    {
     "name": "stdout",
     "output_type": "stream",
     "text": [
      "\n",
      "Student data with letter grades:\n",
      "      Name  Score Letter\n",
      "0    Alice     95      A\n",
      "1      Bob     82      B\n",
      "2  Charlie     67      D\n",
      "3    David     88      B\n",
      "4      Eva     74      C\n",
      "5    Frank     59      F\n"
     ]
    }
   ],
   "source": [
    "def add_letter_grades(df):\n",
    "    def get_letter(score):\n",
    "        if score >= 90:\n",
    "            return 'A'\n",
    "        elif score >= 80:\n",
    "            return 'B'\n",
    "        elif score >= 70:\n",
    "            return 'C'\n",
    "        elif score >= 60:\n",
    "            return 'D'\n",
    "        else:\n",
    "            return 'F'\n",
    "    \n",
    "    df['Letter'] = df['Score'].apply(get_letter)\n",
    "    return df\n",
    "\n",
    "# Test it\n",
    "print(\"\\nStudent data with letter grades:\")\n",
    "print(add_letter_grades(student_data))"
   ]
  },
  {
   "cell_type": "code",
   "execution_count": 10,
   "metadata": {},
   "outputs": [
    {
     "name": "stdout",
     "output_type": "stream",
     "text": [
      "\n",
      "Mode of the Score column:\n",
      "59\n"
     ]
    }
   ],
   "source": [
    "def find_mode(series):\n",
    "    return series.mode().iloc[0]  # Get the first mode if multiple exist\n",
    "\n",
    "# Test it\n",
    "print(\"\\nMode of the Score column:\")\n",
    "print(find_mode(student_data['Score']))"
   ]
  },
  {
   "cell_type": "markdown",
   "metadata": {},
   "source": []
  },
  {
   "cell_type": "code",
   "execution_count": null,
   "metadata": {},
   "outputs": [],
   "source": []
  }
 ],
 "metadata": {
  "kernelspec": {
   "display_name": "venv",
   "language": "python",
   "name": "python3"
  },
  "language_info": {
   "codemirror_mode": {
    "name": "ipython",
    "version": 3
   },
   "file_extension": ".py",
   "mimetype": "text/x-python",
   "name": "python",
   "nbconvert_exporter": "python",
   "pygments_lexer": "ipython3",
   "version": "3.12.5"
  }
 },
 "nbformat": 4,
 "nbformat_minor": 2
}
