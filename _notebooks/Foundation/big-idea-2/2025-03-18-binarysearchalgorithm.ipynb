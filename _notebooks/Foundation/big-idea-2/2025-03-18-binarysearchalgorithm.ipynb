{
 "cells": [
  {
   "cell_type": "raw",
   "metadata": {
    "vscode": {
     "languageId": "raw"
    }
   },
   "source": [
    "---\n",
    "layout: post\n",
    "title: Binary Search Algorithm\n",
    "description: By: Akshaj, Kiruthic, Mihir\n",
    "permalink: /binarysearchalgorithm\n",
    "toc: true\n",
    "comments: true\n",
    "---"
   ]
  },
  {
   "cell_type": "markdown",
   "metadata": {},
   "source": [
    "# Binary Search Algorithm\n",
    "\n",
    "Binary search is an efficient searching algorithm used to find an element in a **sorted** list. It works by repeatedly dividing the search space in half until the target element is found or the search space is empty.\n",
    "\n",
    "## **How Binary Search Works**\n",
    "1. Find the **middle element** of the list.\n",
    "2. If the middle element is the target, return its index.\n",
    "3. If the target is **less** than the middle element, search in the **left half**.\n",
    "4. If the target is **greater** than the middle element, search in the **right half**.\n",
    "5. Repeat steps 1–4 until the element is found or the search space becomes empty."
   ]
  },
  {
   "cell_type": "markdown",
   "metadata": {},
   "source": [
    "## **Binary vs Linear Search**\n",
    "\n",
    "The time complexity of binary search depends on how many steps it takes to find the target.\n",
    "\n",
    "### **Best Case: \\(O(1)\\)**\n",
    "- If the middle element is the target, we find it in **one step**.\n",
    "- This is the fastest possible outcome.\n",
    "\n",
    "### **Worst & Average Case: \\(O(\\log n)\\)**\n",
    "- Each time we check the middle element, we **cut the remaining search space in half**.\n",
    "- If we start with \\( n \\) elements, the number of times we can halve it before only one element remains is about **\\(\\log_2 n\\)**.\n",
    "- This means that even for a **huge list**, we only need a few steps.\n",
    "\n",
    "### **Why Is This Fast?**\n",
    "| **Number of Elements (n)** | **Maximum Steps (log₂ n)** |\n",
    "|----------------------------|---------------------------|\n",
    "| 8                          | 3                         |\n",
    "| 16                         | 4                         |\n",
    "| 32                         | 5                         |\n",
    "| 1,024                      | 10                        |\n",
    "| 1,048,576 (1 million)      | 20                        |\n",
    "\n",
    "- Even with **1 million elements**, we only need **20 steps** to find the target.\n",
    "- Compare this to a **linear search** \\(O(n)\\), which may take up to 1 million steps!\n",
    "\n",
    "Binary search is fast because it **eliminates half of the data** at each step, making it much better than checking each element one by one."
   ]
  },
  {
   "cell_type": "code",
   "execution_count": 17,
   "metadata": {},
   "outputs": [
    {
     "name": "stdout",
     "output_type": "stream",
     "text": [
      "Searching between indices 0 and 6, middle index is 3, value at mid is 7\n",
      "Searching between indices 0 and 2, middle index is 1, value at mid is 3\n",
      "Target found at index 1, value is 3\n"
     ]
    }
   ],
   "source": [
    "# Binary Search Algorithm with Recursive implementation\n",
    "def binary_search(arr, target):\n",
    "    left, right = 0, len(arr) - 1\n",
    "    \n",
    "    while left <= right:\n",
    "        mid = (left + right) // 2  # Find middle index\n",
    "        print(f\"Searching between indices {left} and {right}, middle index is {mid}, value at mid is {arr[mid]}\")\n",
    "        \n",
    "        if arr[mid] == target:\n",
    "            return mid, arr[mid]  # Return index and the value at mid\n",
    "        elif arr[mid] < target:\n",
    "            left = mid + 1  # Search right half\n",
    "        else:\n",
    "            right = mid - 1  # Search left half\n",
    "            \n",
    "    return -1, None  # Element not found\n",
    "\n",
    "# Example usage:\n",
    "arr = [1, 3, 5, 7, 9, 11, 13]\n",
    "target = 3\n",
    "index, value = binary_search(arr, target)\n",
    "print(f\"Target found at index {index}, value is {value}\")  # Output: index and value of 3"
   ]
  },
  {
   "cell_type": "markdown",
   "metadata": {},
   "source": [
    "### **Code Breakdown**\n",
    "\n",
    "#### **Initial Setup**:\n",
    "- `left = 0, right = len(arr) - 1`: Defines the search range (entire array initially).\n",
    "\n",
    "#### **While Loop** (`while left <= right`):\n",
    "- Repeats as long as the search range is valid.\n",
    "\n",
    "#### **Middle Element Calculation**:\n",
    "- `mid = (left + right) // 2`: Finds the middle index of the current range.\n",
    "\n",
    "#### **Search Process**:\n",
    "- **If** `arr[mid] == target`: Target found, return the index and value.\n",
    "- **If** `arr[mid] < target`: Search the right half by updating `left` to `mid + 1`.\n",
    "- **If** `arr[mid] > target`: Search the left half by updating `right` to `mid - 1`.\n",
    "\n",
    "#### **Return**:\n",
    "- If the target is not found, return `-1` and `None`.\n",
    "\n",
    "### **Example Walkthrough** (For `arr = [1, 3, 5, 7, 9, 11, 13]` and `target = 3`):\n",
    "\n",
    "1. **First round**:\n",
    "   - Searching between indices 0 and 6. Middle index is 3, value is `7`.\n",
    "   - Since `7 > 3`, search left half (indices 0 to 2).\n",
    "\n",
    "2. **Second round**:\n",
    "   - Searching between indices 0 and 2. Middle index is 1, value is `3`.\n",
    "   - Target found at index 1.\n",
    "\n",
    "### **Key Points**:\n",
    "- Binary Search divides the search range by half in each iteration, making it efficient (**O(log n)** time complexity).\n",
    "- The process is repeated until the target is found or the search range becomes invalid."
   ]
  },
  {
   "cell_type": "markdown",
   "metadata": {},
   "source": [
    "# Homework Problems:\n",
    "\n",
    "### **Problem 1: Basic Binary Search**\n",
    "\n",
    "- Given the sorted array:"
   ]
  },
  {
   "cell_type": "code",
   "execution_count": null,
   "metadata": {},
   "outputs": [],
   "source": [
    "arr = [1, 3, 5, 7, 9, 11, 13]"
   ]
  },
  {
   "cell_type": "markdown",
   "metadata": {},
   "source": [
    "- Use binary search to find the index of 7. Return the index of the element if found. If the target is not in the array, return -1."
   ]
  },
  {
   "cell_type": "markdown",
   "metadata": {},
   "source": [
    "### **Problem 2: Recursive Binary Search**\n",
    "\n",
    "- Implement the binary search function recursively. Given the array:"
   ]
  },
  {
   "cell_type": "code",
   "execution_count": null,
   "metadata": {},
   "outputs": [],
   "source": [
    "arr = [10, 20, 30, 40, 50, 60, 70, 80]"
   ]
  },
  {
   "cell_type": "markdown",
   "metadata": {},
   "source": [
    "- Use your recursive binary search function to find the index of 30. If the target is found, return its index, otherwise return -1."
   ]
  },
  {
   "cell_type": "markdown",
   "metadata": {},
   "source": [
    "## Hints:\n",
    "### **Problem 1: Basic Binary Search**\n",
    "\n",
    "- Given the sorted array:"
   ]
  },
  {
   "cell_type": "code",
   "execution_count": null,
   "metadata": {},
   "outputs": [],
   "source": [
    "arr = [1, 3, 5, 7, 9, 11, 13]"
   ]
  },
  {
   "cell_type": "markdown",
   "metadata": {},
   "source": [
    "- To find the index of 7 using binary search:\n",
    "\n",
    "1. Initial left = 0, right = 6 (length of the array minus 1).\n",
    "2. Middle index is (0 + 6) // 2 = 3, value at index 3 is 7, which matches the target.\n",
    "3. Return the index 3.\n",
    "4. Answer: The index of 7 is 3."
   ]
  },
  {
   "cell_type": "markdown",
   "metadata": {},
   "source": [
    "### **Problem 2: Recursive Binary Search**\n",
    "\n",
    "- Implement the binary search function recursively. Given the array:"
   ]
  },
  {
   "cell_type": "code",
   "execution_count": null,
   "metadata": {},
   "outputs": [],
   "source": [
    "arr = [10, 20, 30, 40, 50, 60, 70, 80]"
   ]
  },
  {
   "cell_type": "markdown",
   "metadata": {},
   "source": [
    "- Implementing a recursive binary search function, we search for the target 30:\n",
    "\n",
    "1. First call:\n",
    "\n",
    "    - left = 0, right = 7\n",
    "    - Middle index mid = (0 + 7) // 2 = 3, value at index 3 is 40, which is greater than 30.\n",
    "    - Search the left half by setting right = mid - 1 = 2.\n",
    "\n",
    "2. Second call:\n",
    "\n",
    "    - left = 0, right = 2\n",
    "    - Middle index mid = (0 + 2) // 2 = 1, value at index 1 is 20, which is less than 30.\n",
    "    - Search the right half by setting left = mid + 1 = 2.\n",
    "\n",
    "3. Third call:\n",
    "\n",
    "    - left = 2, right = 2\n",
    "    - Middle index mid = (2 + 2) // 2 = 2, value at index 2 is 30, which matches the target.\n",
    "    - Answer: The index of 30 is 2."
   ]
  },
  {
   "cell_type": "code",
   "execution_count": 3,
   "metadata": {
    "vscode": {
     "languageId": "javascript"
    }
   },
   "outputs": [
    {
     "ename": "SyntaxError",
     "evalue": "invalid syntax (3295600474.py, line 1)",
     "output_type": "error",
     "traceback": [
      "\u001b[0;36m  Cell \u001b[0;32mIn[3], line 1\u001b[0;36m\u001b[0m\n\u001b[0;31m    // Bridge the Divide Challenge Game\u001b[0m\n\u001b[0m    ^\u001b[0m\n\u001b[0;31mSyntaxError\u001b[0m\u001b[0;31m:\u001b[0m invalid syntax\n"
     ]
    }
   ],
   "source": [
    "// Bridge the Divide Challenge Game\n",
    "function bridgeTheDivideGame() {\n",
    "  console.log(\"===============================================\");\n",
    "  console.log(\"🌉 BRIDGE THE DIVIDE: Digital Inclusion Challenge\");\n",
    "  console.log(\"===============================================\");\n",
    "  console.log(\"You are a technology policy advisor tasked with\");\n",
    "  console.log(\"helping communities overcome the digital divide.\");\n",
    "  console.log(\"Analyze each scenario and make the best decision!\\n\");\n",
    "\n",
    "  let score = 0;\n",
    "  const totalQuestions = 5;\n",
    "\n",
    "  // Scenario 1\n",
    "  console.log(\"SCENARIO 1: Rural Connectivity\");\n",
    "  console.log(\"A rural community of 500 families is located 50 miles from\");\n",
    "  console.log(\"the nearest broadband infrastructure. You have $200,000\");\n",
    "  console.log(\"in funding. What's your best approach?\");\n",
    "  console.log(\"A: Lay fiber optic cable to each home\");\n",
    "  console.log(\"B: Set up a wireless tower system\");\n",
    "  console.log(\"C: Provide satellite internet subsidies\");\n",
    "  console.log(\"D: Create a community center with high-speed internet\");\n",
    "\n",
    "  const answer1 = prompt(\"Your choice (A/B/C/D):\").toUpperCase();\n",
    "  if (answer1 === \"B\") {\n",
    "    console.log(\"✓ Correct! A wireless tower system provides the best\");\n",
    "    console.log(\"  coverage for the investment in this rural setting.\");\n",
    "    score++;\n",
    "  } else {\n",
    "    console.log(\"✗ The best answer is B. Fiber would be too expensive,\");\n",
    "    console.log(\"  satellite has high latency issues, and a single center\");\n",
    "    console.log(\"  wouldn't provide sufficient access for all families.\");\n",
    "  }\n",
    "\n",
    "  // Scenario 2\n",
    "  console.log(\"\\nSCENARIO 2: Digital Literacy\");\n",
    "  console.log(\"An urban neighborhood has new affordable internet access,\");\n",
    "  console.log(\"but adoption remains low at 30%. Investigation reveals many\");\n",
    "  console.log(\"residents lack digital skills. What approach would help most?\");\n",
    "  console.log(\"A: Reduce internet prices further\");\n",
    "  console.log(\"B: Distribute free tablets to all residents\");\n",
    "  console.log(\"C: Launch digital literacy workshops at local library\");\n",
    "  console.log(\"D: Create a tech support hotline\");\n",
    "\n",
    "  const answer2 = prompt(\"Your choice (A/B/C/D):\").toUpperCase();\n",
    "  if (answer2 === \"C\") {\n",
    "    console.log(\"✓ Correct! Digital literacy workshops address the\");\n",
    "    console.log(\"  root cause - lack of skills - rather than just\");\n",
    "    console.log(\"  providing more access or support.\");\n",
    "    score++;\n",
    "  } else {\n",
    "    console.log(\"✗ The best answer is C. The primary barrier isn't\");\n",
    "    console.log(\"  cost or device ownership, but skill development.\");\n",
    "    console.log(\"  Workshops provide hands-on learning opportunities.\");\n",
    "  }\n",
    "\n",
    "  // Add more scenarios as needed...\n",
    "\n",
    "  // Final score\n",
    "  console.log(\"\\n===============================================\");\n",
    "  console.log(`FINAL SCORE: ${score}/${totalQuestions}`);\n",
    "  console.log(\"===============================================\");\n",
    "\n",
    "  if (score === totalQuestions) {\n",
    "    console.log(\"🏆 Perfect! You're a digital inclusion expert!\");\n",
    "  } else if (score >= totalQuestions * 0.7) {\n",
    "    console.log(\"🥈 Good job! You have strong understanding of digital divide issues.\");\n",
    "  } else if (score >= totalQuestions * 0.5) {\n",
    "    console.log(\"👍 Decent effort, but review some of the concepts again.\");\n",
    "  } else {\n",
    "    console.log(\"📚 You need more study on digital divide solutions.\");\n",
    "  }\n",
    "}\n",
    "\n",
    "// Run the game with: bridgeTheDivideGame();"
   ]
  },
  {
   "cell_type": "code",
   "execution_count": 5,
   "metadata": {
    "vscode": {
     "languageId": "javascript"
    }
   },
   "outputs": [
    {
     "ename": "SyntaxError",
     "evalue": "invalid syntax (611133693.py, line 1)",
     "output_type": "error",
     "traceback": [
      "\u001b[0;36m  Cell \u001b[0;32mIn[5], line 1\u001b[0;36m\u001b[0m\n\u001b[0;31m    function exploreDigitalDivide() {\u001b[0m\n\u001b[0m             ^\u001b[0m\n\u001b[0;31mSyntaxError\u001b[0m\u001b[0;31m:\u001b[0m invalid syntax\n"
     ]
    }
   ],
   "source": [
    "// Interactive Digital Divide Explorer\n",
    "function exploreDigitalDivide() {\n",
    "    // Select what data to display\n",
    "    const metric = prompt(\n",
    "      \"Which digital divide metric would you like to explore?\\n\" +\n",
    "      \"1: Income-based internet access\\n\" +\n",
    "      \"2: Urban vs rural access\\n\" +\n",
    "      \"3: Age-based internet usage\\n\" +\n",
    "      \"4: Global connectivity rates\"\n",
    "    );\n",
    "  \n",
    "    // Sample data\n",
    "    const incomeData = {\n",
    "      categories: [\"Lowest 20%\", \"Second 20%\", \"Middle 20%\", \"Fourth 20%\", \"Highest 20%\"],\n",
    "      values: [62, 71, 80, 88, 95]\n",
    "    };\n",
    "  \n",
    "    const locationData = {\n",
    "      categories: [\"Urban\", \"Rural\"],\n",
    "      values: [94, 83]\n",
    "    };\n",
    "  \n",
    "    const ageData = {\n",
    "      categories: [\"18-29\", \"30-49\", \"50-64\", \"65+\"],\n",
    "      values: [97, 93, 88, 61]\n",
    "    };\n",
    "  \n",
    "    const globalData = {\n",
    "      categories: [\"North America\", \"Europe\", \"Asia Pacific\", \"Latin America\", \"Middle East/Africa\"],\n",
    "      values: [90, 87, 54, 68, 40]\n",
    "    };\n",
    "  \n",
    "    // Select dataset based on user choice\n",
    "    let data;\n",
    "    let title;\n",
    "  \n",
    "    switch(metric) {\n",
    "      case \"1\":\n",
    "        data = incomeData;\n",
    "        title = \"Internet Access by Income Level (%)\";\n",
    "        break;\n",
    "      case \"2\":\n",
    "        data = locationData;\n",
    "        title = \"Urban vs Rural Internet Access (%)\";\n",
    "        break;\n",
    "      case \"3\":\n",
    "        data = ageData;\n",
    "        title = \"Internet Usage by Age Group (%)\";\n",
    "        break;\n",
    "      case \"4\":\n",
    "        data = globalData;\n",
    "        title = \"Internet Access by Region (%)\";\n",
    "        break;\n",
    "      default:\n",
    "        alert(\"Invalid selection!\");\n",
    "        return;\n",
    "    }\n",
    "  \n",
    "    // Display the data (in a real app, this would create a chart)\n",
    "    console.log(title);\n",
    "    console.log(\"=\".repeat(title.length));\n",
    "  \n",
    "    const maxValue = Math.max(...data.values);\n",
    "    const maxBarLength = 40;\n",
    "  \n",
    "    for (let i = 0; i < data.categories.length; i++) {\n",
    "      const barLength = Math.round((data.values[i] / maxValue) * maxBarLength);\n",
    "      const bar = \"█\".repeat(barLength);\n",
    "      console.log(`${data.categories[i].padEnd(12)}: ${bar} ${data.values[i]}%`);\n",
    "    }\n",
    "  }\n",
    "  \n",
    "  // Run this function to explore different aspects of the digital divide\n",
    "  // exploreDigitalDivide();"
   ]
  }
 ],
 "metadata": {
  "kernelspec": {
   "display_name": "venv",
   "language": "python",
   "name": "python3"
  },
  "language_info": {
   "codemirror_mode": {
    "name": "ipython",
    "version": 3
   },
   "file_extension": ".py",
   "mimetype": "text/x-python",
   "name": "python",
   "nbconvert_exporter": "python",
   "pygments_lexer": "ipython3",
   "version": "3.12.5"
  }
 },
 "nbformat": 4,
 "nbformat_minor": 2
}
