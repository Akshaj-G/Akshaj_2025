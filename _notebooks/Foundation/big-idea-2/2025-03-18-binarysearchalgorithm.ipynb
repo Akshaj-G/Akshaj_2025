{
 "cells": [
  {
   "cell_type": "raw",
   "metadata": {
    "vscode": {
     "languageId": "raw"
    }
   },
   "source": [
    "---\n",
    "layout: post\n",
    "title: Binary Search Algorithm\n",
    "description: By: Akshaj, Kiruthic, Mihir\n",
    "permalink: /binarysearchalgorithm\n",
    "toc: true\n",
    "comments: true\n",
    "---"
   ]
  },
  {
   "cell_type": "markdown",
   "metadata": {},
   "source": [
    "# Binary Search Algorithm\n",
    "\n",
    "Binary search is an efficient searching algorithm used to find an element in a **sorted** list. It works by repeatedly dividing the search space in half until the target element is found or the search space is empty.\n",
    "\n",
    "## **How Binary Search Works**\n",
    "1. Find the **middle element** of the list.\n",
    "2. If the middle element is the target, return its index.\n",
    "3. If the target is **less** than the middle element, search in the **left half**.\n",
    "4. If the target is **greater** than the middle element, search in the **right half**.\n",
    "5. Repeat steps 1–4 until the element is found or the search space becomes empty."
   ]
  },
  {
   "cell_type": "markdown",
   "metadata": {},
   "source": [
    "## **Binary vs Linear Search**\n",
    "\n",
    "The time complexity of binary search depends on how many steps it takes to find the target.\n",
    "\n",
    "### **Best Case: \\(O(1)\\)**\n",
    "- If the middle element is the target, we find it in **one step**.\n",
    "- This is the fastest possible outcome.\n",
    "\n",
    "### **Worst & Average Case: \\(O(\\log n)\\)**\n",
    "- Each time we check the middle element, we **cut the remaining search space in half**.\n",
    "- If we start with \\( n \\) elements, the number of times we can halve it before only one element remains is about **\\(\\log_2 n\\)**.\n",
    "- This means that even for a **huge list**, we only need a few steps.\n",
    "\n",
    "### **Why Is This Fast?**\n",
    "| **Number of Elements (n)** | **Maximum Steps (log₂ n)** |\n",
    "|----------------------------|---------------------------|\n",
    "| 8                          | 3                         |\n",
    "| 16                         | 4                         |\n",
    "| 32                         | 5                         |\n",
    "| 1,024                      | 10                        |\n",
    "| 1,048,576 (1 million)      | 20                        |\n",
    "\n",
    "- Even with **1 million elements**, we only need **20 steps** to find the target.\n",
    "- Compare this to a **linear search** \\(O(n)\\), which may take up to 1 million steps!\n",
    "\n",
    "Binary search is fast because it **eliminates half of the data** at each step, making it much better than checking each element one by one."
   ]
  },
  {
   "cell_type": "code",
   "execution_count": 17,
   "metadata": {},
   "outputs": [
    {
     "name": "stdout",
     "output_type": "stream",
     "text": [
      "Searching between indices 0 and 6, middle index is 3, value at mid is 7\n",
      "Searching between indices 0 and 2, middle index is 1, value at mid is 3\n",
      "Target found at index 1, value is 3\n"
     ]
    }
   ],
   "source": [
    "# Binary Search Algorithm with Recursive implementation\n",
    "def binary_search(arr, target):\n",
    "    left, right = 0, len(arr) - 1\n",
    "    \n",
    "    while left <= right:\n",
    "        mid = (left + right) // 2  # Find middle index\n",
    "        print(f\"Searching between indices {left} and {right}, middle index is {mid}, value at mid is {arr[mid]}\")\n",
    "        \n",
    "        if arr[mid] == target:\n",
    "            return mid, arr[mid]  # Return index and the value at mid\n",
    "        elif arr[mid] < target:\n",
    "            left = mid + 1  # Search right half\n",
    "        else:\n",
    "            right = mid - 1  # Search left half\n",
    "            \n",
    "    return -1, None  # Element not found\n",
    "\n",
    "# Example usage:\n",
    "arr = [1, 3, 5, 7, 9, 11, 13]\n",
    "target = 3\n",
    "index, value = binary_search(arr, target)\n",
    "print(f\"Target found at index {index}, value is {value}\")  # Output: index and value of 3"
   ]
  },
  {
   "cell_type": "markdown",
   "metadata": {},
   "source": [
    "### **Code Breakdown**\n",
    "\n",
    "#### **Initial Setup**:\n",
    "- `left = 0, right = len(arr) - 1`: Defines the search range (entire array initially).\n",
    "\n",
    "#### **While Loop** (`while left <= right`):\n",
    "- Repeats as long as the search range is valid.\n",
    "\n",
    "#### **Middle Element Calculation**:\n",
    "- `mid = (left + right) // 2`: Finds the middle index of the current range.\n",
    "\n",
    "#### **Search Process**:\n",
    "- **If** `arr[mid] == target`: Target found, return the index and value.\n",
    "- **If** `arr[mid] < target`: Search the right half by updating `left` to `mid + 1`.\n",
    "- **If** `arr[mid] > target`: Search the left half by updating `right` to `mid - 1`.\n",
    "\n",
    "#### **Return**:\n",
    "- If the target is not found, return `-1` and `None`.\n",
    "\n",
    "### **Example Walkthrough** (For `arr = [1, 3, 5, 7, 9, 11, 13]` and `target = 3`):\n",
    "\n",
    "1. **First round**:\n",
    "   - Searching between indices 0 and 6. Middle index is 3, value is `7`.\n",
    "   - Since `7 > 3`, search left half (indices 0 to 2).\n",
    "\n",
    "2. **Second round**:\n",
    "   - Searching between indices 0 and 2. Middle index is 1, value is `3`.\n",
    "   - Target found at index 1.\n",
    "\n",
    "### **Key Points**:\n",
    "- Binary Search divides the search range by half in each iteration, making it efficient (**O(log n)** time complexity).\n",
    "- The process is repeated until the target is found or the search range becomes invalid."
   ]
  },
  {
   "cell_type": "markdown",
   "metadata": {},
   "source": [
    "# Homework Problems:\n",
    "\n",
    "### **Problem 1: Basic Binary Search**\n",
    "\n",
    "- Given the sorted array:"
   ]
  },
  {
   "cell_type": "code",
   "execution_count": null,
   "metadata": {},
   "outputs": [],
   "source": [
    "arr = [1, 3, 5, 7, 9, 11, 13]"
   ]
  },
  {
   "cell_type": "markdown",
   "metadata": {},
   "source": [
    "- Use binary search to find the index of 7. Return the index of the element if found. If the target is not in the array, return -1."
   ]
  },
  {
   "cell_type": "markdown",
   "metadata": {},
   "source": [
    "### **Problem 3: Recursive Binary Search**\n",
    "\n",
    "- Implement the binary search function recursively. Given the array:"
   ]
  },
  {
   "cell_type": "code",
   "execution_count": null,
   "metadata": {},
   "outputs": [],
   "source": [
    "arr = [10, 20, 30, 40, 50, 60, 70, 80]"
   ]
  },
  {
   "cell_type": "markdown",
   "metadata": {},
   "source": [
    "- Use your recursive binary search function to find the index of 30. If the target is found, return its index, otherwise return -1."
   ]
  },
  {
   "cell_type": "markdown",
   "metadata": {},
   "source": [
    "## Hints:\n",
    "### **Problem 1: Basic Binary Search**\n",
    "\n",
    "- Given the sorted array:"
   ]
  },
  {
   "cell_type": "code",
   "execution_count": null,
   "metadata": {},
   "outputs": [],
   "source": [
    "arr = [1, 3, 5, 7, 9, 11, 13]"
   ]
  },
  {
   "cell_type": "markdown",
   "metadata": {},
   "source": [
    "- To find the index of 7 using binary search:\n",
    "\n",
    "1. Initial left = 0, right = 6 (length of the array minus 1).\n",
    "2. Middle index is (0 + 6) // 2 = 3, value at index 3 is 7, which matches the target.\n",
    "3. Return the index 3.\n",
    "4. Answer: The index of 7 is 3."
   ]
  },
  {
   "cell_type": "markdown",
   "metadata": {},
   "source": [
    "Implementing a recursive binary search function, we search for the target 30:\n",
    "\n",
    "1. First call:\n",
    "\n",
    "    - left = 0, right = 7\n",
    "    - Middle index mid = (0 + 7) // 2 = 3, value at index 3 is 40, which is greater than 30.\n",
    "    - Search the left half by setting right = mid - 1 = 2.\n",
    "\n",
    "2. Second call:\n",
    "\n",
    "    - left = 0, right = 2\n",
    "    - Middle index mid = (0 + 2) // 2 = 1, value at index 1 is 20, which is less than 30.\n",
    "    - Search the right half by setting left = mid + 1 = 2.\n",
    "\n",
    "3. Third call:\n",
    "\n",
    "    - left = 2, right = 2\n",
    "    - Middle index mid = (2 + 2) // 2 = 2, value at index 2 is 30, which matches the target.\n",
    "    - Answer: The index of 30 is 2."
   ]
  }
 ],
 "metadata": {
  "kernelspec": {
   "display_name": "venv",
   "language": "python",
   "name": "python3"
  },
  "language_info": {
   "codemirror_mode": {
    "name": "ipython",
    "version": 3
   },
   "file_extension": ".py",
   "mimetype": "text/x-python",
   "name": "python",
   "nbconvert_exporter": "python",
   "pygments_lexer": "ipython3",
   "version": "3.12.5"
  }
 },
 "nbformat": 4,
 "nbformat_minor": 2
}
