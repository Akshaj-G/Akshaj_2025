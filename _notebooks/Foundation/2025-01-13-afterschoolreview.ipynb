{
 "cells": [
  {
   "cell_type": "raw",
   "metadata": {
    "vscode": {
     "languageId": "raw"
    }
   },
   "source": [
    "---\n",
    "title: After School Alumni Review\n",
    "---"
   ]
  },
  {
   "cell_type": "markdown",
   "metadata": {
    "vscode": {
     "languageId": "html"
    }
   },
   "source": [
    "<img src=\"{{site.baseurl}}/images/alumni.jpg\" height=\"300\" title=\"Alumni Review\" alt=\"\">\n"
   ]
  },
  {
   "cell_type": "markdown",
   "metadata": {},
   "source": [
    "---\n",
    "\n",
    "# Real-World Skills and Preparation\n",
    "- Mr. Mort's live reviews simulate real-world job applications, preparing students for professional settings.\n",
    "- Summarizing assignments in class, such as user stories, issues, and Kanban boards, helps build foundational knowledge for real-world applications.\n",
    "- Clear and concise communication during presentations is crucial to effectively get your point across.\n",
    "\n",
    "---\n",
    "\n",
    "# Effective Communication and Methodologies\n",
    "- Agile methodology is an effective framework for structured communication and project collaboration.\n",
    "- Exploring tools like UML Diagrams can help outline and organize ideas clearly for better understanding and implementation.\n",
    "- Combining technical skills with ethical perspectives can be impactful, such as developing AI applications that detect emotions to provide meaningful quotes.\n",
    "\n",
    "---\n",
    "\n",
    "# Planning for Higher Education and Careers\n",
    "- Starting early to explore college class catalogs in areas of interest can help in career planning.\n",
    "- Community college classes are recommended to finish credits sooner, potentially allowing completion of a master's degree in four years.\n",
    "\n",
    "---\n",
    "\n",
    "# Technical Skills and Development\n",
    "- Building websites is a valuable skill that combines creativity and technical expertise.\n",
    "- Highlighting technical skills with real-world applications, like AI or web development, can make your profile stand out.\n",
    "\n",
    "---\n"
   ]
  }
 ],
 "metadata": {
  "kernelspec": {
   "display_name": "venv",
   "language": "python",
   "name": "python3"
  },
  "language_info": {
   "codemirror_mode": {
    "name": "ipython",
    "version": 3
   },
   "file_extension": ".py",
   "mimetype": "text/x-python",
   "name": "python",
   "nbconvert_exporter": "python",
   "pygments_lexer": "ipython3",
   "version": "3.12.5"
  }
 },
 "nbformat": 4,
 "nbformat_minor": 2
}
