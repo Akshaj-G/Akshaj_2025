{
 "cells": [
  {
   "cell_type": "raw",
   "metadata": {
    "vscode": {
     "languageId": "raw"
    }
   },
   "source": [
    "---\n",
    "title: Executive Summary\n",
    "---"
   ]
  },
  {
   "cell_type": "markdown",
   "metadata": {},
   "source": [
    "## Journey\n",
    "\n",
    "I had no coding experience prior to joining this class. I was only aware of functions such as the print(). After going watching everyone's presentations and doing their hacks, I was able to strengthen the fundamentals of Python. Now I feel confident in my basic Python Skills, even though I was slighlty informed about Javascript and personally feel like I can still improve in that area. In the process of creating my lesson, I was able to grasp the foundational python elements of coding. In the lesson I created, I truly educated myself about the topics before teaching my classmates. I created the examples truly simple, just the way I thought I would understand of I was viewer. \n",
    "\n",
    "## Accomplishments\n",
    "- I was very proud of the lesson I created (3.1 Python Variables and Assignments)\n",
    "- I was also proud the way I presented the lesson, I showcase my understanding surrounding the topics\n",
    "\n",
    "## Improvements\n",
    "- Better communicate the ideas of lesson with our teamates to create a cohesive lesson\n",
    "- Our team as a whole could have been less reliant on AI tools such as ChatGpt, to put forward original material"
   ]
  }
 ],
 "metadata": {
  "language_info": {
   "name": "python"
  }
 },
 "nbformat": 4,
 "nbformat_minor": 2
}
