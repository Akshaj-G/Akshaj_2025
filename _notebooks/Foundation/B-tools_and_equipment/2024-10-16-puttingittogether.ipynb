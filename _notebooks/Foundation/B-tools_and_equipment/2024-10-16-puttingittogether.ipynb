{
 "cells": [
  {
   "cell_type": "raw",
   "metadata": {
    "vscode": {
     "languageId": "raw"
    }
   },
   "source": [
    "---\n",
    "title: Putting It All Together\n",
    "---"
   ]
  },
  {
   "cell_type": "code",
   "execution_count": 14,
   "metadata": {},
   "outputs": [
    {
     "name": "stdout",
     "output_type": "stream",
     "text": [
      "my name is Akshaj\n",
      "AkshajAkshajAkshajAkshajAkshajAkshajAkshajAkshajAkshajAkshaj\n",
      "5\n",
      "1\n",
      "20\n",
      "2.0\n",
      "2\n",
      "9.423\n",
      "The answer is more than 2\n",
      "----------\n",
      "Profile: {'name': 'Akshaj Gurugubelli', 'age': 15, 'city': 'San Diego', 'favorite_color': 'Blue', 'hobbies': ['Tennis', 'Basketball', 'Football', 'Eating', 'Reading', 'Coding', 'Watching my phone', 'Running'], 'new_skill': None}\n",
      "Your Hobby is available today\n",
      "I have 7 hobbies.\n",
      "My favorite hobbies are ('Tennis', 'Basketball')\n",
      "----------\n",
      "You're good to go\n",
      "You need to get shoes\n"
     ]
    }
   ],
   "source": [
    "# Variable and Strings\n",
    "n = \"my name is \"\n",
    "name = \"Akshaj\"\n",
    "\n",
    "# Concat\n",
    "print (n+name) \n",
    "print (name * 10)\n",
    "\n",
    "# integers and operations\n",
    "n_1 = 2\n",
    "n_2 = 3\n",
    "n_3 = 4\n",
    "n_4 = 5\n",
    "n_5 = 3.141\n",
    "\n",
    "print (n_1 + n_2)\n",
    "print (n_2 - n_1)\n",
    "print (n_3 * n_4)\n",
    "print (n_3 / n_1)\n",
    "print (n_4 // n_1)\n",
    "print (n_5 * n_2)\n",
    "\n",
    "equation = n_4 % n_1\n",
    "\n",
    "if equation >= 2:\n",
    "    print (\"The answer is less than 2\")\n",
    "else:\n",
    "    print (\"The answer is more than 2\")\n",
    "\n",
    "print (\"-\"*10)\n",
    "\n",
    "# Dictionaries, Booleans, lists, len, variable casing,==, f-strings,\n",
    "Updated_Profile = {\n",
    "    \"name\": \"Akshaj Gurugubelli\",\n",
    "    \"age\": 15,\n",
    "    \"city\": \"San Diego\",\n",
    "    \"favorite_color\": \"Blue\",\n",
    "    \"hobbies\": [\"Tennis\", \"Basketball\", \"Football\", \"Eating\", \"Reading\", \"Coding\", \"Watching my phone\", \"Running\"],\n",
    "    \"new_skill\" : None\n",
    "}\n",
    "print(\"Profile:\", Updated_Profile)\n",
    "\n",
    "hobby_question = (input(\"Is your hobby available today, answer true or false\"))\n",
    "if hobby_question == \"true\":\n",
    "    print (\"Your Hobby is available today\")\n",
    "elif hobby_question == \"false\":\n",
    "    print (\"Your Hobby is not available today\")\n",
    "else:\n",
    "    print (\"Input error, make sure your answer is all lowercase\")\n",
    "    \n",
    "total_hobbies = len('hobbies')\n",
    "print(f\"I have {total_hobbies} hobbies.\")\n",
    "\n",
    "favorite_hobbies = (\"Tennis\", \"Basketball\")\n",
    "print (f\"My favorite hobbies are {favorite_hobbies}\")\n",
    "\n",
    "print (\"-\" * 10)\n",
    "\n",
    "# Boolean\n",
    "\n",
    "has_socks = True\n",
    "\n",
    "# If/Else Statement\n",
    "# We use the boolean in the if/else stament \n",
    "\n",
    "if has_socks:\n",
    "    print (\"You're good to go\")\n",
    "else:\n",
    "    print (\"You need to get socks\")\n",
    "    \n",
    "# Nested conditionals\n",
    "\n",
    "has_socks = True\n",
    "has_shoes = False\n",
    "\n",
    "if has_socks:\n",
    "    if has_shoes:\n",
    "        print (\"You are good to go outside\")\n",
    "    else:\n",
    "        print (\"You need to get shoes\")\n",
    "else:\n",
    "    print (\"You need to get socks\")"
   ]
  },
  {
   "cell_type": "markdown",
   "metadata": {},
   "source": [
    "## Summary"
   ]
  },
  {
   "cell_type": "markdown",
   "metadata": {},
   "source": [
    "Strings and Concatenation: The variables n and name are strings. They are concatenated using the + operator, and the string name is repeated 10 times using the * operator.\n",
    "\n",
    "Integer Operations: Variables n_1 through n_5 represent numbers. Various mathematical operations are performed, including addition, subtraction, multiplication, division (/), floor division (//), and modulus (%). The modulus result (equation) is compared in a conditional block.\n",
    "\n",
    "Dictionaries and Booleans: A dictionary named Updated_Profile stores key-value pairs about a person's profile. The program interacts with the user through input() to check if a hobby is available. The program also checks the length of the string 'hobbies' and uses f-strings for formatted output.\n",
    "\n",
    "Conditional, Boolean, If/Else: A boolean variable (has_socks) is used in an if/else statement. A nested conditional is when there an If/Else inside another If/Else statement.\n",
    "\n",
    "Data Structures: Lists and tuples are used to store multiple hobbies and favorite hobbies, and their values are printed.\n"
   ]
  }
 ],
 "metadata": {
  "kernelspec": {
   "display_name": "venv",
   "language": "python",
   "name": "python3"
  },
  "language_info": {
   "codemirror_mode": {
    "name": "ipython",
    "version": 3
   },
   "file_extension": ".py",
   "mimetype": "text/x-python",
   "name": "python",
   "nbconvert_exporter": "python",
   "pygments_lexer": "ipython3",
   "version": "3.12.5"
  }
 },
 "nbformat": 4,
 "nbformat_minor": 2
}
