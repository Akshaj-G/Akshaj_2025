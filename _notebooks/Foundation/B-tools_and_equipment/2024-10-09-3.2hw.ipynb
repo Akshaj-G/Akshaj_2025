{
 "cells": [
  {
   "cell_type": "markdown",
   "metadata": {},
   "source": [
    "# 3.2 Homework Hacks"
   ]
  },
  {
   "cell_type": "markdown",
   "metadata": {},
   "source": [
    "## Pyhton"
   ]
  },
  {
   "cell_type": "markdown",
   "metadata": {},
   "source": [
    "### Part 1"
   ]
  },
  {
   "cell_type": "code",
   "execution_count": 14,
   "metadata": {},
   "outputs": [
    {
     "name": "stdout",
     "output_type": "stream",
     "text": [
      "Profile: {'name': 'Akshaj Gurugubelli', 'age': 15, 'city': 'San Diego', 'favorite_color': 'Blue'}\n"
     ]
    }
   ],
   "source": [
    "# Part 1\n",
    "\n",
    "profile = {\n",
    "    \"name\": \"Akshaj Gurugubelli\",\n",
    "    \"age\": 15,\n",
    "    \"city\": \"San Diego\",\n",
    "    \"favorite_color\": \"Blue\"\n",
    "}\n",
    "print(\"Profile:\", profile)\n"
   ]
  },
  {
   "cell_type": "markdown",
   "metadata": {},
   "source": [
    "### Part 2"
   ]
  },
  {
   "cell_type": "code",
   "execution_count": 8,
   "metadata": {},
   "outputs": [
    {
     "name": "stdout",
     "output_type": "stream",
     "text": [
      "This is my hobby Reading\n"
     ]
    }
   ],
   "source": [
    "# Part 2\n",
    "\n",
    "import random\n",
    "\n",
    "hobbies = [\"Tennis\", \"Basketball\", \"Football\", \"Eating\", \"Reading\", \"Coding\", \"Watching my phone\", \"Running\"]\n",
    "random_hobby = random.choice(hobbies)\n",
    "print(\"This is my hobby\", random_hobby)"
   ]
  },
  {
   "cell_type": "markdown",
   "metadata": {},
   "source": [
    "### Part 3"
   ]
  },
  {
   "cell_type": "code",
   "execution_count": 13,
   "metadata": {},
   "outputs": [
    {
     "name": "stdout",
     "output_type": "stream",
     "text": [
      "Profile: {'name': 'Akshaj Gurugubelli', 'age': 15, 'city': 'San Diego', 'favorite_color': 'Blue', 'hobbies': ['Tennis', 'Basketball', 'Football', 'Eating', 'Reading', 'Coding', 'Watching my phone', 'Running']}\n"
     ]
    }
   ],
   "source": [
    "# Part 3\n",
    "\n",
    "updated_profile = {\n",
    "    \"name\": \"Akshaj Gurugubelli\",\n",
    "    \"age\": 15,\n",
    "    \"city\": \"San Diego\",\n",
    "    \"favorite_color\": \"Blue\",\n",
    "    \"hobbies\": [\"Tennis\", \"Basketball\", \"Football\", \"Eating\", \"Reading\", \"Coding\", \"Watching my phone\", \"Running\"]\n",
    "}\n",
    "print(\"Profile:\", updated_profile)"
   ]
  },
  {
   "cell_type": "markdown",
   "metadata": {},
   "source": [
    "### Parts 3-6 "
   ]
  },
  {
   "cell_type": "code",
   "execution_count": 30,
   "metadata": {},
   "outputs": [
    {
     "name": "stdout",
     "output_type": "stream",
     "text": [
      "Profile: {'name': 'Akshaj Gurugubelli', 'age': 15, 'city': 'San Diego', 'favorite_color': 'Blue', 'hobbies': ['Tennis', 'Basketball', 'Football', 'Eating', 'Reading', 'Coding', 'Watching my phone', 'Running']}\n",
      "Your Hobby is available today\n",
      "I have 8 hobbies.\n",
      "My favorite hobbies are ('Tennis', 'Basketball')\n"
     ]
    }
   ],
   "source": [
    "# Part 3\n",
    "\n",
    "updated_profile = {\n",
    "    \"name\": \"Akshaj Gurugubelli\",\n",
    "    \"age\": 15,\n",
    "    \"city\": \"San Diego\",\n",
    "    \"favorite_color\": \"Blue\",\n",
    "    \"hobbies\": [\"Tennis\", \"Basketball\", \"Football\", \"Eating\", \"Reading\", \"Coding\", \"Watching my phone\", \"Running\"]\n",
    "}\n",
    "print(\"Profile:\", updated_profile)\n",
    "\n",
    "# Part 4 \n",
    "\n",
    "hobby_question = (input(\"Is your hobby available today, answer true or false\"))\n",
    "if hobby_question == \"true\":\n",
    "    print (\"Your Hobby is available today\")\n",
    "elif hobby_question == \"false\":\n",
    "    print (\"Your Hobby is not available today\")\n",
    "else:\n",
    "    print (\"Input error, make sure your answer is all lowercase\")\n",
    "    \n",
    "# Part 5\n",
    "\n",
    "total_hobbies = len(hobbies)\n",
    "print(f\"I have {total_hobbies} hobbies.\")\n",
    "\n",
    "# Part 6\n",
    "\n",
    "favorite_hobbies = (\"Tennis\", \"Basketball\")\n",
    "print (f\"My favorite hobbies are {favorite_hobbies}\")"
   ]
  },
  {
   "cell_type": "markdown",
   "metadata": {},
   "source": [
    "### Part 7"
   ]
  },
  {
   "cell_type": "code",
   "execution_count": 38,
   "metadata": {},
   "outputs": [
    {
     "name": "stdout",
     "output_type": "stream",
     "text": [
      "Profile: {'name': 'Akshaj Gurugubelli', 'age': 15, 'city': 'San Diego', 'favorite_color': 'Blue', 'hobbies': ['Tennis', 'Basketball', 'Football', 'Eating', 'Reading', 'Coding', 'Watching my phone', 'Running'], 'skills': {'Teaching', 'Coding', 'Tennis'}}\n",
      "my skills are {'Teaching', 'Coding', 'Tennis'}\n"
     ]
    }
   ],
   "source": [
    "# Part 7\n",
    "updated2_profile = {\n",
    "    \"name\": \"Akshaj Gurugubelli\",\n",
    "    \"age\": 15,\n",
    "    \"city\": \"San Diego\",\n",
    "    \"favorite_color\": \"Blue\",\n",
    "    \"hobbies\": [\"Tennis\", \"Basketball\", \"Football\", \"Eating\", \"Reading\", \"Coding\", \"Watching my phone\", \"Running\"],\n",
    "    \"skills\" : {\"Coding\", \"Tennis\", \"Teaching\"}\n",
    "}\n",
    "print(\"Profile:\", updated2_profile)\n",
    "print (f\"my skills are {updated2_profile['skills']}\")\n"
   ]
  },
  {
   "cell_type": "markdown",
   "metadata": {},
   "source": [
    "### Part 8"
   ]
  },
  {
   "cell_type": "code",
   "execution_count": 41,
   "metadata": {},
   "outputs": [
    {
     "name": "stdout",
     "output_type": "stream",
     "text": [
      "Profile: {'name': 'Akshaj Gurugubelli', 'age': 15, 'city': 'San Diego', 'favorite_color': 'Blue', 'hobbies': ['Tennis', 'Basketball', 'Football', 'Eating', 'Reading', 'Coding', 'Watching my phone', 'Running'], 'skills': {'Teaching', 'Coding', 'Tennis'}, 'new_skill': None}\n",
      "my skills are None\n"
     ]
    }
   ],
   "source": [
    "#Part 8 \n",
    "\n",
    "updated3_profile = {\n",
    "    \"name\": \"Akshaj Gurugubelli\",\n",
    "    \"age\": 15,\n",
    "    \"city\": \"San Diego\",\n",
    "    \"favorite_color\": \"Blue\",\n",
    "    \"hobbies\": [\"Tennis\", \"Basketball\", \"Football\", \"Eating\", \"Reading\", \"Coding\", \"Watching my phone\", \"Running\"],\n",
    "    \"skills\" : {\"Coding\", \"Tennis\", \"Teaching\"},\n",
    "    \"new_skill\" : None\n",
    "}\n",
    "print(\"Profile:\", updated3_profile)\n",
    "print ((f\"my skills are {updated3_profile['new_skill']}\"))"
   ]
  },
  {
   "cell_type": "markdown",
   "metadata": {},
   "source": [
    "### Part 9"
   ]
  },
  {
   "cell_type": "code",
   "execution_count": 47,
   "metadata": {},
   "outputs": [
    {
     "name": "stdout",
     "output_type": "stream",
     "text": [
      "70.0\n"
     ]
    }
   ],
   "source": [
    "# Part 9\n",
    "\n",
    "updated3_profile = {\n",
    "    \"name\": \"Akshaj Gurugubelli\",\n",
    "    \"age\": 15,\n",
    "    \"city\": \"San Diego\",\n",
    "    \"favorite_color\": \"Blue\",\n",
    "    \"hobbies\": [\"Tennis\", \"Basketball\", \"Football\", \"Eating\", \"Reading\", \"Coding\", \"Watching my phone\", \"Running\"],\n",
    "    \"skills\" : {\"Coding\", \"Tennis\", \"Teaching\"},\n",
    "    \"new_skill\" : None\n",
    "}\n",
    "cost_hobbies = len(hobbies) * 5\n",
    "cost_skills = len(updated3_profile[\"skills\"]) * 10\n",
    "cost = float(cost_hobbies + cost_skills)\n",
    "print (cost)"
   ]
  }
 ],
 "metadata": {
  "kernelspec": {
   "display_name": "venv",
   "language": "python",
   "name": "python3"
  },
  "language_info": {
   "codemirror_mode": {
    "name": "ipython",
    "version": 3
   },
   "file_extension": ".py",
   "mimetype": "text/x-python",
   "name": "python",
   "nbconvert_exporter": "python",
   "pygments_lexer": "ipython3",
   "version": "3.12.5"
  }
 },
 "nbformat": 4,
 "nbformat_minor": 2
}
