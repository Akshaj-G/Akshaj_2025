{
 "cells": [
  {
   "cell_type": "raw",
   "metadata": {
    "vscode": {
     "languageId": "raw"
    }
   },
   "source": [
    "---\n",
    "title: 3.6 Popcorn Hacks\n",
    "---"
   ]
  },
  {
   "cell_type": "markdown",
   "metadata": {},
   "source": [
    "# 3.6 Conditionals"
   ]
  },
  {
   "cell_type": "markdown",
   "metadata": {},
   "source": [
    "## Popcorn Hack 1 in Python"
   ]
  },
  {
   "cell_type": "code",
   "execution_count": 1,
   "metadata": {},
   "outputs": [
    {
     "name": "stdout",
     "output_type": "stream",
     "text": [
      "You got an A on the test!\n"
     ]
    }
   ],
   "source": [
    "\n",
    "score = 95\n",
    "\n",
    "# Conditional statement\n",
    "if score >= 90:\n",
    "    print(\"You got an A on the test!\")\n",
    "else:\n",
    "    print(\"You didn't get an A on the test.\")"
   ]
  },
  {
   "cell_type": "markdown",
   "metadata": {},
   "source": [
    "## Popcorn Hack 1 in Javascript"
   ]
  },
  {
   "cell_type": "code",
   "execution_count": 2,
   "metadata": {
    "vscode": {
     "languageId": "javascript"
    }
   },
   "outputs": [
    {
     "data": {
      "application/javascript": "let score = 95;\n\n// Conditional statement\nif (score >= 90) {\n    console.log(\"You got an A on test!\");\n} else {\n    console.log(\"You didn't get an A on the test.\");\n}\n",
      "text/plain": [
       "<IPython.core.display.Javascript object>"
      ]
     },
     "metadata": {},
     "output_type": "display_data"
    }
   ],
   "source": [
    "%%js\n",
    "let score = 95;\n",
    "\n",
    "// Conditional statement\n",
    "if (score >= 90) {\n",
    "    console.log(\"You got an A on test!\");\n",
    "} else {\n",
    "    console.log(\"You didn't get an A on the test.\");\n",
    "}\n"
   ]
  },
  {
   "cell_type": "markdown",
   "metadata": {},
   "source": [
    "## Popcorn Hack 2 in python"
   ]
  },
  {
   "cell_type": "code",
   "execution_count": 3,
   "metadata": {
    "vscode": {
     "languageId": "javascript"
    }
   },
   "outputs": [
    {
     "name": "stdout",
     "output_type": "stream",
     "text": [
      "Go To Jail\n"
     ]
    }
   ],
   "source": [
    "commited_crime = True\n",
    "\n",
    "if commited_crime:\n",
    "    print(\"Go To Jail\")\n",
    "else:\n",
    "    print(\"You are innocent\")"
   ]
  },
  {
   "cell_type": "markdown",
   "metadata": {},
   "source": [
    "## Popcorn Hack 3 in Javascript"
   ]
  },
  {
   "cell_type": "code",
   "execution_count": 4,
   "metadata": {
    "vscode": {
     "languageId": "javascript"
    }
   },
   "outputs": [
    {
     "data": {
      "application/javascript": "let roll_dice = Math.floor(Math.random() * 6) + 1;\n\nconsole.log(\"Rolling the dice...\");\nconsole.log(`You rolled a ${roll_dice}`);\n\nif (roll_dice === 1) {\n    console.log(\"Oh no! You rolled a 1. Try again!\");\n} else if (roll_dice === 2) {\n    console.log(\"oh, thats bad, you rolled a 2\");\n} else if (roll_dice == 3) {\n    console.log(\"Uh oh, you rolled a 3!\");\n} else if (roll_dice === 4) {\n    console.log(\"Not bad! You rolled a 4.\");\n} else if (roll_dice === 5) {\n    console.log(\"Great roll! You rolled a 5.\");\n} else {\n    console.log(\"Awesome! You rolled a 6! You're on a roll!\");\n}\n",
      "text/plain": [
       "<IPython.core.display.Javascript object>"
      ]
     },
     "metadata": {},
     "output_type": "display_data"
    }
   ],
   "source": [
    "%%js\n",
    "let roll_dice = Math.floor(Math.random() * 6) + 1;\n",
    "\n",
    "console.log(\"Rolling the dice...\");\n",
    "console.log(`You rolled a ${roll_dice}`);\n",
    "\n",
    "if (roll_dice === 1) {\n",
    "    console.log(\"Oh no! You rolled a 1. Try again!\");\n",
    "} else if (roll_dice === 2) {\n",
    "    console.log(\"oh, thats bad, you rolled a 2\");\n",
    "} else if (roll_dice == 3) {\n",
    "    console.log(\"Uh oh, you rolled a 3!\");\n",
    "} else if (roll_dice === 4) {\n",
    "    console.log(\"Not bad! You rolled a 4.\");\n",
    "} else if (roll_dice === 5) {\n",
    "    console.log(\"Great roll! You rolled a 5.\");\n",
    "} else {\n",
    "    console.log(\"Awesome! You rolled a 6! You're on a roll!\");\n",
    "}"
   ]
  }
 ],
 "metadata": {
  "kernelspec": {
   "display_name": "venv",
   "language": "python",
   "name": "python3"
  },
  "language_info": {
   "codemirror_mode": {
    "name": "ipython",
    "version": 3
   },
   "file_extension": ".py",
   "mimetype": "text/x-python",
   "name": "python",
   "nbconvert_exporter": "python",
   "pygments_lexer": "ipython3",
   "version": "3.12.5"
  }
 },
 "nbformat": 4,
 "nbformat_minor": 2
}
