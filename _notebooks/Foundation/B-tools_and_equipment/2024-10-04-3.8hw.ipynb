{
 "cells": [
  {
   "cell_type": "raw",
   "metadata": {
    "vscode": {
     "languageId": "raw"
    }
   },
   "source": [
    "---\n",
    "layout: post\n",
    "title: 3.8 Homework\n",
    "description: Akshaj's Homework page\n",
    "categories: [DevOps, JavaScript, Python]\n",
    "permalink: /3.8homework\n",
    "author: Akshaj Gurugubelli\n",
    "toc: true\n",
    "comments: true\n",
    "---"
   ]
  },
  {
   "cell_type": "markdown",
   "metadata": {},
   "source": [
    "# 3.8 Homework"
   ]
  },
  {
   "cell_type": "markdown",
   "metadata": {},
   "source": [
    "## 3.8.1 For Loops Homework"
   ]
  },
  {
   "cell_type": "code",
   "execution_count": 2,
   "metadata": {},
   "outputs": [
    {
     "name": "stdout",
     "output_type": "stream",
     "text": [
      "name Akshaj\n",
      "age 15\n",
      "hobby Tennis\n",
      "city San diego\n",
      "Akshaj\n",
      "15\n",
      "Tennis\n",
      "San diego\n",
      "name Akshaj\n",
      "age 15\n",
      "hobby Tennis\n",
      "city San diego\n"
     ]
    }
   ],
   "source": [
    "person = {'name': 'Akshaj', 'age': 15, 'hobby': 'Tennis', 'city': 'San diego'}\n",
    "\n",
    "# Looping through keys\n",
    "for key in person:\n",
    "    print(key, person[key])\n",
    "\n",
    "# Looping through values\n",
    "for value in person.values():\n",
    "    print(value)\n",
    "\n",
    "# Looping through keys and values\n",
    "for key, value in person.items():\n",
    "    print(key, value)\n",
    "\n"
   ]
  },
  {
   "cell_type": "markdown",
   "metadata": {},
   "source": [
    "## 3.8.2 While,Do-While"
   ]
  },
  {
   "cell_type": "markdown",
   "metadata": {},
   "source": [
    "### Task 1"
   ]
  },
  {
   "cell_type": "code",
   "execution_count": 9,
   "metadata": {},
   "outputs": [
    {
     "name": "stdout",
     "output_type": "stream",
     "text": [
      "50\n",
      "Bang!💣 \n",
      "Fizz!🍾 \n",
      "53\n",
      "Bang!💣 Buzz!🐝 \n",
      "55\n",
      "Fizz!🍾 Boom!💥 \n",
      "Bang!💣 \n",
      "58\n",
      "59\n",
      "Bang!💣 Fizz!🍾 Buzz!🐝 \n",
      "61\n",
      "62\n",
      "Bang!💣 Boom!💥 \n",
      "Fizz!🍾 \n",
      "65\n",
      "Bang!💣 Buzz!🐝 \n",
      "67\n",
      "Fizz!🍾 \n",
      "Bang!💣 \n",
      "Boom!💥 \n",
      "71\n",
      "Bang!💣 Fizz!🍾 Buzz!🐝 \n",
      "73\n",
      "74\n",
      "Bang!💣 \n",
      "Fizz!🍾 \n",
      "Boom!💥 \n",
      "Bang!💣 Buzz!🐝 \n",
      "79\n",
      "Fizz!🍾 \n",
      "Bang!💣 \n",
      "82\n",
      "83\n",
      "Bang!💣 Fizz!🍾 Buzz!🐝 Boom!💥 \n",
      "85\n",
      "86\n",
      "Bang!💣 \n",
      "Fizz!🍾 \n",
      "89\n",
      "Bang!💣 Buzz!🐝 \n",
      "Boom!💥 \n",
      "Fizz!🍾 \n",
      "Bang!💣 \n",
      "94\n",
      "95\n",
      "Bang!💣 Fizz!🍾 Buzz!🐝 \n",
      "97\n",
      "Boom!💥 \n",
      "Bang!💣 \n",
      "Fizz!🍾 \n"
     ]
    }
   ],
   "source": [
    "num = 50\n",
    "\n",
    "while num <= 100:\n",
    "    output = \"\"\n",
    "    \n",
    "    if num % 3 == 0:\n",
    "        output += \"Bang!💣 \"\n",
    "    if num % 4 == 0:\n",
    "        output += \"Fizz!🍾 \"\n",
    "    if num % 6 == 0:\n",
    "        output += \"Buzz!🐝 \"\n",
    "    if num % 7 == 0:\n",
    "        output += \"Boom!💥 \"\n",
    "    \n",
    "    if output == \"\":\n",
    "        print(num)\n",
    "    else:\n",
    "        print(output)\n",
    "    \n",
    "    num += 1 "
   ]
  },
  {
   "cell_type": "markdown",
   "metadata": {},
   "source": [
    "### Task 2"
   ]
  },
  {
   "cell_type": "code",
   "execution_count": 3,
   "metadata": {},
   "outputs": [
    {
     "name": "stdout",
     "output_type": "stream",
     "text": [
      "Login successful!\n"
     ]
    }
   ],
   "source": [
    "correct_username = \"Akshaj\"\n",
    "correct_password = \"Akshaj is the best\"\n",
    "attempts = 0\n",
    "max_attempts = 3\n",
    "\n",
    "# Do-while simulation\n",
    "while True:\n",
    "    username = input(\"Enter your username: \")\n",
    "    password = input(\"Enter your password: \")\n",
    "\n",
    "    if username == correct_username and password == correct_password:\n",
    "        print(\"Login successful!\")\n",
    "        break\n",
    "    else:\n",
    "        attempts += 1\n",
    "        attempts_left = max_attempts - attempts\n",
    "        \n",
    "        if attempts_left > 0:\n",
    "            print(f\"Incorrect username or password. You have {attempts_left} attempts left.\")\n",
    "        else:\n",
    "            print(\"Your account is locked.\")\n",
    "            break\n",
    "\n",
    "# Challenge: Password Reset after 3 failed attempts\n",
    "if attempts == max_attempts:\n",
    "    security_answer = input(\"What is your favorite color? \")\n",
    "\n",
    "    # Example security question to reset the password\n",
    "    if security_answer.lower() == \"blue\":\n",
    "        new_password = input(\"Enter your new password: \")\n",
    "        correct_password = new_password\n",
    "        print(\"Your password has been reset.\")\n",
    "    else:\n",
    "        print(\"Security answer is incorrect. Account remains locked.\")"
   ]
  },
  {
   "cell_type": "markdown",
   "metadata": {},
   "source": [
    "## 3.8.3 Index Loops Homework"
   ]
  },
  {
   "cell_type": "markdown",
   "metadata": {},
   "source": [
    "### Python Hack"
   ]
  },
  {
   "cell_type": "code",
   "execution_count": 11,
   "metadata": {},
   "outputs": [
    {
     "name": "stdout",
     "output_type": "stream",
     "text": [
      "Your To-Do List:\n",
      "1. Go to School\n",
      "2. Come Back from school\n",
      "3. Do Homework\n",
      "4. Eat Dinner\n",
      "5. Brush my Teeth\n",
      "6. And then sleep\n"
     ]
    }
   ],
   "source": [
    "# List of tasks\n",
    "tasks = [\n",
    "    \"Go to School\",\n",
    "    \"Come Back from school\",\n",
    "    \"Do Homework\",\n",
    "    \"Eat Dinner\",\n",
    "    \"Brush my Teeth\",\n",
    "    \"And then sleep\"\n",
    "]\n",
    "\n",
    "# Function to display tasks with indices\n",
    "def display_tasks():\n",
    "    print(\"Your To-Do List:\")\n",
    "    for index in range(len(tasks)):\n",
    "        print(f\"{index + 1}. {tasks[index]}\")  # Display task with its index\n",
    "\n",
    "# Call the function\n",
    "display_tasks()"
   ]
  },
  {
   "cell_type": "markdown",
   "metadata": {},
   "source": [
    "### Javascript Hack"
   ]
  },
  {
   "cell_type": "code",
   "execution_count": 1,
   "metadata": {
    "vscode": {
     "languageId": "javascript"
    }
   },
   "outputs": [
    {
     "data": {
      "application/javascript": "// List of tasks\nconst tasks = [\n    \"Go to School\",\n    \"Come Back from school\",\n    \"Do Homework\",\n    \"Eat Dinner\",\n    \"Brush my Teeth\",\n    \"And then sleep\"    \n];\n\n// Function to display tasks with indices\nfunction displayTasks() {\n    console.log(\"Your To-Do List:\");\n    for (let index = 0; index < tasks.length; index++) {\n        console.log(`${index + 1}. ${tasks[index]}`); // Display task with its index\n    }\n}\n\n// Call the function\ndisplayTasks();\n",
      "text/plain": [
       "<IPython.core.display.Javascript object>"
      ]
     },
     "metadata": {},
     "output_type": "display_data"
    }
   ],
   "source": [
    "%%javascript\n",
    "// List of tasks\n",
    "const tasks = [\n",
    "    \"Go to School\",\n",
    "    \"Come Back from school\",\n",
    "    \"Do Homework\",\n",
    "    \"Eat Dinner\",\n",
    "    \"Brush my Teeth\",\n",
    "    \"And then sleep\"    \n",
    "];\n",
    "\n",
    "// Function to display tasks with indices\n",
    "function displayTasks() {\n",
    "    console.log(\"Your To-Do List:\");\n",
    "    for (let index = 0; index < tasks.length; index++) {\n",
    "        console.log(`${index + 1}. ${tasks[index]}`); // Display task with its index\n",
    "    }\n",
    "}\n",
    "\n",
    "// Call the function\n",
    "displayTasks();"
   ]
  },
  {
   "cell_type": "markdown",
   "metadata": {},
   "source": [
    "## 3.8.4 Homework"
   ]
  },
  {
   "cell_type": "markdown",
   "metadata": {},
   "source": [
    "### Javascript Hack"
   ]
  },
  {
   "cell_type": "code",
   "execution_count": 2,
   "metadata": {
    "vscode": {
     "languageId": "javascript"
    }
   },
   "outputs": [
    {
     "data": {
      "application/javascript": "let number = 0;\n\nwhile (true) { // Infinite loop\n    console.log(number); // Print the current number\n    number += 2; // Increment by 2\n\n    if (number > 10) { // Condition to break the loop\n        break; // Exit the loop if number exceeds 10\n    }\n}\n",
      "text/plain": [
       "<IPython.core.display.Javascript object>"
      ]
     },
     "metadata": {},
     "output_type": "display_data"
    }
   ],
   "source": [
    "%%javascript\n",
    "let number = 0;\n",
    "\n",
    "while (true) { // Infinite loop\n",
    "    console.log(number); // Print the current number\n",
    "    number += 2; // Increment by 2\n",
    "\n",
    "    if (number > 10) { // Condition to break the loop\n",
    "        break; // Exit the loop if number exceeds 10\n",
    "    }\n",
    "}"
   ]
  },
  {
   "cell_type": "markdown",
   "metadata": {},
   "source": [
    "### Python Hack"
   ]
  },
  {
   "cell_type": "code",
   "execution_count": 22,
   "metadata": {},
   "outputs": [
    {
     "name": "stdout",
     "output_type": "stream",
     "text": [
      "This number is 0\n",
      "This number is 2\n",
      "This number is 4\n",
      "This number is 6\n",
      "This number is 8\n",
      "This number is 10\n",
      "This number is 12\n",
      "This number is 14\n"
     ]
    }
   ],
   "source": [
    "for number in range(15):\n",
    "    if number % 2 != 0:\n",
    "        continue  # Skip odd numbers\n",
    "    print(f\"This number is {number}\")"
   ]
  }
 ],
 "metadata": {
  "kernelspec": {
   "display_name": "venv",
   "language": "python",
   "name": "python3"
  },
  "language_info": {
   "codemirror_mode": {
    "name": "ipython",
    "version": 3
   },
   "file_extension": ".py",
   "mimetype": "text/x-python",
   "name": "python",
   "nbconvert_exporter": "python",
   "pygments_lexer": "ipython3",
   "version": "3.12.5"
  }
 },
 "nbformat": 4,
 "nbformat_minor": 2
}
