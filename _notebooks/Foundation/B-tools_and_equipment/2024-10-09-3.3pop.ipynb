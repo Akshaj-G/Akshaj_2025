{
 "cells": [
  {
   "cell_type": "code",
   "execution_count": 5,
   "metadata": {},
   "outputs": [
    {
     "name": "stdout",
     "output_type": "stream",
     "text": [
      "Add: 11\n",
      "Subtract: 11\n",
      "Multiply: 0\n",
      "Divide: undefined\n",
      "Exponent: 1\n"
     ]
    }
   ],
   "source": [
    "a, b = 11, 0\n",
    "\n",
    "Add = a + b\n",
    "Subtract = a - b\n",
    "Multiply = a * b\n",
    "Divide = a / b if b != 0 else 'undefined'\n",
    "Exponent = a ** b\n",
    "\n",
    "\n",
    "print(f\"Add: {Add}\")\n",
    "print(f\"Subtract: {Subtract}\")\n",
    "print(f\"Multiply: {Multiply}\")\n",
    "print(f\"Divide: {Divide}\")\n",
    "print(f\"Exponent: {Exponent}\")"
   ]
  },
  {
   "cell_type": "code",
   "execution_count": 6,
   "metadata": {},
   "outputs": [
    {
     "name": "stdout",
     "output_type": "stream",
     "text": [
      "The 12th Fibonacci number is: 89\n"
     ]
    }
   ],
   "source": [
    "def fibonacc(n):\n",
    "    if n <= 0:\n",
    "        return \"invalid\"\n",
    "    elif n == 1:\n",
    "        return 0\n",
    "    elif n == 2:\n",
    "        return 1\n",
    "    else:\n",
    "        return fibonacc(n - 1) + fibonacc(n - 2)\n",
    "\n",
    "\n",
    "n = 12 \n",
    "print(f\"The {n}th Fibonacci number is: {fibonacc(n)}\")"
   ]
  }
 ],
 "metadata": {
  "kernelspec": {
   "display_name": "venv",
   "language": "python",
   "name": "python3"
  },
  "language_info": {
   "codemirror_mode": {
    "name": "ipython",
    "version": 3
   },
   "file_extension": ".py",
   "mimetype": "text/x-python",
   "name": "python",
   "nbconvert_exporter": "python",
   "pygments_lexer": "ipython3",
   "version": "3.12.5"
  }
 },
 "nbformat": 4,
 "nbformat_minor": 2
}
