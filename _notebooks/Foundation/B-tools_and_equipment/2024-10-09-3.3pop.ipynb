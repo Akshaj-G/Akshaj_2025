{
 "cells": [
  {
   "cell_type": "raw",
   "metadata": {
    "vscode": {
     "languageId": "raw"
    }
   },
   "source": [
    "---\n",
    "title: 3.3 Popcorn Hacks\n",
    "---"
   ]
  },
  {
   "cell_type": "markdown",
   "metadata": {},
   "source": [
    "# 3.3 Popcorn Hacks"
   ]
  },
  {
   "cell_type": "code",
   "execution_count": 1,
   "metadata": {},
   "outputs": [
    {
     "name": "stdout",
     "output_type": "stream",
     "text": [
      "Add: 11\n",
      "Subtract: 11\n",
      "Multiply: 0\n",
      "Divide: undefined\n",
      "Exponent: 1\n"
     ]
    }
   ],
   "source": [
    "a, b = 11, 0\n",
    "\n",
    "Add = a + b\n",
    "Subtract = a - b\n",
    "Multiply = a * b\n",
    "Divide = a / b if b != 0 else 'undefined'\n",
    "Exponent = a ** b\n",
    "\n",
    "\n",
    "print(f\"Add: {Add}\")\n",
    "print(f\"Subtract: {Subtract}\")\n",
    "print(f\"Multiply: {Multiply}\")\n",
    "print(f\"Divide: {Divide}\")\n",
    "print(f\"Exponent: {Exponent}\")"
   ]
  },
  {
   "cell_type": "code",
   "execution_count": 6,
   "metadata": {},
   "outputs": [
    {
     "name": "stdout",
     "output_type": "stream",
     "text": [
      "The 12th Fibonacci number is: 89\n"
     ]
    }
   ],
   "source": [
    "def fibonacc(n):\n",
    "    if n <= 0:\n",
    "        return \"invalid\"\n",
    "    elif n == 1:\n",
    "        return 0\n",
    "    elif n == 2:\n",
    "        return 1\n",
    "    else:\n",
    "        return fibonacc(n - 1) + fibonacc(n - 2)\n",
    "\n",
    "\n",
    "n = 12 \n",
    "print(f\"The {n}th Fibonacci number is: {fibonacc(n)}\")"
   ]
  },
  {
   "cell_type": "code",
   "execution_count": 2,
   "metadata": {},
   "outputs": [
    {
     "name": "stdout",
     "output_type": "stream",
     "text": [
      "A is true, so B must also be true: True\n",
      "B is true, we cannot conclude anything about A.\n"
     ]
    }
   ],
   "source": [
    "def A():\n",
    "    return True  # Condition A\n",
    "\n",
    "def B():\n",
    "    return True  # Condition B\n",
    "\n",
    "# Original statement: if A then B\n",
    "if A():\n",
    "    print(\"A is true, so B must also be true:\", B())\n",
    "else:\n",
    "    print(\"A is false, we cannot conclude anything about B.\")\n",
    "\n",
    "# Contrapositive: if not B then not A\n",
    "if not B():\n",
    "    print(\"B is false, therefore A must also be false:\", not A())\n",
    "else:\n",
    "    print(\"B is true, we cannot conclude anything about A.\")"
   ]
  },
  {
   "cell_type": "code",
   "execution_count": 3,
   "metadata": {
    "vscode": {
     "languageId": "javascript"
    }
   },
   "outputs": [
    {
     "data": {
      "application/javascript": "\npublic class ContrapositiveExample {\n    \n    public static boolean A() {\n        return true; // Condition A\n    }\n    \n    public static boolean B() {\n        return true; // Condition B\n    }\n    \n    public static void main(String[] args) {\n        // Original statement: if A then B\n        if (A()) {\n            System.out.println(\"A is true, so B must also be true: \" + B());\n        } else {\n            System.out.println(\"A is false, we cannot conclude anything about B.\");\n        }\n        \n        // Contrapositive: if not B then not A\n        if (!B()) {\n            System.out.println(\"B is false, therefore A must also be false: \" + !A());\n        } else {\n            System.out.println(\"B is true, we cannot conclude anything about A.\");\n        }\n    }\n}\n",
      "text/plain": [
       "<IPython.core.display.Javascript object>"
      ]
     },
     "metadata": {},
     "output_type": "display_data"
    }
   ],
   "source": [
    "%%javascript\n",
    "\n",
    "public class ContrapositiveExample {\n",
    "    \n",
    "    public static boolean A() {\n",
    "        return true; // Condition A\n",
    "    }\n",
    "    \n",
    "    public static boolean B() {\n",
    "        return true; // Condition B\n",
    "    }\n",
    "    \n",
    "    public static void main(String[] args) {\n",
    "        // Original statement: if A then B\n",
    "        if (A()) {\n",
    "            System.out.println(\"A is true, so B must also be true: \" + B());\n",
    "        } else {\n",
    "            System.out.println(\"A is false, we cannot conclude anything about B.\");\n",
    "        }\n",
    "        \n",
    "        // Contrapositive: if not B then not A\n",
    "        if (!B()) {\n",
    "            System.out.println(\"B is false, therefore A must also be false: \" + !A());\n",
    "        } else {\n",
    "            System.out.println(\"B is true, we cannot conclude anything about A.\");\n",
    "        }\n",
    "    }\n",
    "}"
   ]
  }
 ],
 "metadata": {
  "kernelspec": {
   "display_name": "venv",
   "language": "python",
   "name": "python3"
  },
  "language_info": {
   "codemirror_mode": {
    "name": "ipython",
    "version": 3
   },
   "file_extension": ".py",
   "mimetype": "text/x-python",
   "name": "python",
   "nbconvert_exporter": "python",
   "pygments_lexer": "ipython3",
   "version": "3.12.5"
  }
 },
 "nbformat": 4,
 "nbformat_minor": 2
}
