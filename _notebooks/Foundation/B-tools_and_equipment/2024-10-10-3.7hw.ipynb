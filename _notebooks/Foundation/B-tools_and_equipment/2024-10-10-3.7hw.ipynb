{
 "cells": [
  {
   "cell_type": "code",
   "execution_count": 1,
   "metadata": {},
   "outputs": [
    {
     "name": "stdout",
     "output_type": "stream",
     "text": [
      "Great! You can drive!\n"
     ]
    }
   ],
   "source": [
    "# Input age and whether the child has a ball\n",
    "age = int(input(\"Enter your age: \"))\n",
    "can_drive = input(\"Do you have a car (yes/no): \").lower()\n",
    "\n",
    "# Check if the child can join the game\n",
    "allowed_to_drive = age >= 16 and can_drive == \"yes\"\n",
    "\n",
    "if can_drive:\n",
    "    if allowed_to_drive:\n",
    "        message = \"You can drive!\"\n",
    "    else:\n",
    "        message = \"You're too young\"\n",
    "\n",
    "    print(f\"Great! {message}\")\n",
    "else:\n",
    "    print(\"Sorry, you need a car to drive\")"
   ]
  }
 ],
 "metadata": {
  "kernelspec": {
   "display_name": "venv",
   "language": "python",
   "name": "python3"
  },
  "language_info": {
   "codemirror_mode": {
    "name": "ipython",
    "version": 3
   },
   "file_extension": ".py",
   "mimetype": "text/x-python",
   "name": "python",
   "nbconvert_exporter": "python",
   "pygments_lexer": "ipython3",
   "version": "3.12.5"
  }
 },
 "nbformat": 4,
 "nbformat_minor": 2
}
