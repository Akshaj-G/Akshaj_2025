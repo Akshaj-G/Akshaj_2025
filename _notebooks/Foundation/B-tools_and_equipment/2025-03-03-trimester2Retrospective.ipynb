{
 "cells": [
  {
   "cell_type": "raw",
   "metadata": {
    "vscode": {
     "languageId": "raw"
    }
   },
   "source": [
    "---\n",
<<<<<<< HEAD
    "title: Neptune Retrospective\n",
=======
    "layout: post\n",
    "title: Neptune Retrospective\n",
    "description: A journey in Computer Scieince in Trimester 2\n",
    "categories: [DevOps]\n",
    "permalink: /devops/tools/setup\n",
    "author: Akshaj Gurugubelli\n",
    "toc: true\n",
    "comments: true\n",
>>>>>>> 21dced4 (m)
    "---"
   ]
  },
  {
   "cell_type": "markdown",
   "metadata": {},
   "source": [
    "# 5 Big Contributions In Trimester 2 CSP"
   ]
  },
  {
   "cell_type": "markdown",
   "metadata": {},
   "source": [
    "## 1. Planning\n",
    "\n",
    "https://github.com/DNHS-Neptune/neptune_frontend/issues/4\n",
    "\n",
    "![Figma](figma.jpg)\n",
    "\n",
<<<<<<< HEAD
    "## 2. Kanban Board/Burndown List\n",
    "\n",
    "\n"
   ]
=======
    "## 2. Kanban Board/Burndown List\n"
   ]
  },
  {
   "cell_type": "markdown",
   "metadata": {},
   "source": []
>>>>>>> 21dced4 (m)
  }
 ],
 "metadata": {
  "kernelspec": {
   "display_name": "venv",
   "language": "python",
   "name": "python3"
  },
  "language_info": {
   "name": "python",
   "version": "3.12.5"
  }
 },
 "nbformat": 4,
 "nbformat_minor": 2
}
