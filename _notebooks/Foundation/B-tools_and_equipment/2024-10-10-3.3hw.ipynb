{
 "cells": [
  {
   "cell_type": "markdown",
   "metadata": {},
   "source": [
    "# Homework 3.3 & 3.5"
   ]
  },
  {
   "cell_type": "markdown",
   "metadata": {},
   "source": [
    "## Homework 3.3"
   ]
  },
  {
   "cell_type": "code",
   "execution_count": 11,
   "metadata": {
    "vscode": {
     "languageId": "javascript"
    }
   },
   "outputs": [
    {
     "data": {
      "application/javascript": "// Method to calculate Fibonacci using dynamic programming with optimized space\nfunction fibonacci(n) {\n    // Base cases for Fibonacci\n    if (n === 0) return 0;\n    if (n === 1) return 1;\n\n    // Variables to store previous two Fibonacci numbers\n    let prev1 = 1, prev2 = 0;\n    let current = 0;\n\n    // Iteratively calculate Fibonacci\n    for (let i = 2; i <= n; i++) {\n        current = prev1 + prev2;\n        prev2 = prev1;\n        prev1 = current;\n    }\n\n    return current;\n}\n\n// Efficient matrix exponentiation approach (O(log n))\nfunction fibonacciMatrix(n) {\n    if (n === 0) return 0;\n    \n    let F = [[1, 1], [1, 0]];\n    power(F, n - 1);\n\n    return F[0][0];\n}\n\n// Helper method to perform matrix exponentiation\nfunction power(F, n) {\n    if (n === 0 || n === 1) return;\n\n    let M = [[1, 1], [1, 0]];\n\n    power(F, Math.floor(n / 2));\n    multiply(F, F); // Square the matrix\n\n    if (n % 2 !== 0) multiply(F, M); // Multiply by M if n is odd\n}\n\n// Matrix multiplication helper\nfunction multiply(F, M) {\n    let x = F[0][0] * M[0][0] + F[0][1] * M[1][0];\n    let y = F[0][0] * M[0][1] + F[0][1] * M[1][1];\n    let z = F[1][0] * M[0][0] + F[1][1] * M[1][0];\n    let w = F[1][0] * M[0][1] + F[1][1] * M[1][1];\n\n    F[0][0] = x;\n    F[0][1] = y;\n    F[1][0] = z;\n    F[1][1] = w;\n}\n\n// Main function to execute both Fibonacci calculations\nfunction main() {\n    let n = 50;\n\n    // Using dynamic programming with optimized space\n    console.log(\"Fibonacci number at position \" + n + \" using DP is: \" + fibonacci(n));\n\n    // Using matrix exponentiation (O(log n))\n    console.log(\"Fibonacci number at position \" + n + \" using Matrix Exponentiation is: \" + fibonacciMatrix(n));\n}\n\n// Run the main function\nmain();\n",
      "text/plain": [
       "<IPython.core.display.Javascript object>"
      ]
     },
     "metadata": {},
     "output_type": "display_data"
    }
   ],
   "source": [
    "%%js\n",
    "// Method to calculate Fibonacci using dynamic programming with optimized space\n",
    "function fibonacci(n) {\n",
    "    // Base cases for Fibonacci\n",
    "    if (n === 0) return 0;\n",
    "    if (n === 1) return 1;\n",
    "\n",
    "    // Variables to store previous two Fibonacci numbers\n",
    "    let prev1 = 1, prev2 = 0;\n",
    "    let current = 0;\n",
    "\n",
    "    // Iteratively calculate Fibonacci\n",
    "    for (let i = 2; i <= n; i++) {\n",
    "        current = prev1 + prev2;\n",
    "        prev2 = prev1;\n",
    "        prev1 = current;\n",
    "    }\n",
    "\n",
    "    return current;\n",
    "}\n",
    "\n",
    "// Efficient matrix exponentiation approach (O(log n))\n",
    "function fibonacciMatrix(n) {\n",
    "    if (n === 0) return 0;\n",
    "    \n",
    "    let F = [[1, 1], [1, 0]];\n",
    "    power(F, n - 1);\n",
    "\n",
    "    return F[0][0];\n",
    "}\n",
    "\n",
    "// Helper method to perform matrix exponentiation\n",
    "function power(F, n) {\n",
    "    if (n === 0 || n === 1) return;\n",
    "\n",
    "    let M = [[1, 1], [1, 0]];\n",
    "\n",
    "    power(F, Math.floor(n / 2));\n",
    "    multiply(F, F); // Square the matrix\n",
    "\n",
    "    if (n % 2 !== 0) multiply(F, M); // Multiply by M if n is odd\n",
    "}\n",
    "\n",
    "// Matrix multiplication helper\n",
    "function multiply(F, M) {\n",
    "    let x = F[0][0] * M[0][0] + F[0][1] * M[1][0];\n",
    "    let y = F[0][0] * M[0][1] + F[0][1] * M[1][1];\n",
    "    let z = F[1][0] * M[0][0] + F[1][1] * M[1][0];\n",
    "    let w = F[1][0] * M[0][1] + F[1][1] * M[1][1];\n",
    "\n",
    "    F[0][0] = x;\n",
    "    F[0][1] = y;\n",
    "    F[1][0] = z;\n",
    "    F[1][1] = w;\n",
    "}\n",
    "\n",
    "// Main function to execute both Fibonacci calculations\n",
    "function main() {\n",
    "    let n = 50;\n",
    "\n",
    "    // Using dynamic programming with optimized space\n",
    "    console.log(\"Fibonacci number at position \" + n + \" using DP is: \" + fibonacci(n));\n",
    "\n",
    "    // Using matrix exponentiation (O(log n))\n",
    "    console.log(\"Fibonacci number at position \" + n + \" using Matrix Exponentiation is: \" + fibonacciMatrix(n));\n",
    "}\n",
    "\n",
    "// Run the main function\n",
    "main();"
   ]
  }
 ],
 "metadata": {
  "kernelspec": {
   "display_name": "venv",
   "language": "python",
   "name": "python3"
  },
  "language_info": {
   "codemirror_mode": {
    "name": "ipython",
    "version": 3
   },
   "file_extension": ".py",
   "mimetype": "text/x-python",
   "name": "python",
   "nbconvert_exporter": "python",
   "pygments_lexer": "ipython3",
   "version": "3.12.5"
  }
 },
 "nbformat": 4,
 "nbformat_minor": 2
}
