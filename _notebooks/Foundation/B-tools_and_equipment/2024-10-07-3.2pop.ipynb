{
 "cells": [
  {
   "cell_type": "markdown",
   "metadata": {},
   "source": [
    "# 3.2 Popcorn Hacks"
   ]
  },
  {
   "cell_type": "markdown",
   "metadata": {},
   "source": [
    "## Python"
   ]
  },
  {
   "cell_type": "markdown",
   "metadata": {},
   "source": [
    "### Popcorn Hack #1"
   ]
  },
  {
   "cell_type": "code",
   "execution_count": 2,
   "metadata": {},
   "outputs": [
    {
     "name": "stdout",
     "output_type": "stream",
     "text": [
      "4\n"
     ]
    }
   ],
   "source": [
    "Dictionary = {\"monkey\": 1, \"elephant\": 2, \"dog\": 3, \"whale\": 4 }\n",
    "print(Dictionary[\"whale\"]) #any key will do"
   ]
  },
  {
   "cell_type": "markdown",
   "metadata": {},
   "source": [
    "### Popcorn Hack #2"
   ]
  },
  {
   "cell_type": "code",
   "execution_count": 37,
   "metadata": {},
   "outputs": [
    {
     "name": "stdout",
     "output_type": "stream",
     "text": [
      "729\n"
     ]
    }
   ],
   "source": [
    "first_number = int(input(\"Please Enter the First Number Here: \"))\n",
    "second_number = int(input(\"Please Enter the Second Number Here: \"))\n",
    "math_function = (input(\"Please Enter the function here:\")) #Ex: +, -, *, /\n",
    "\n",
    "if math_function == \"+\":\n",
    "    print(first_number + second_number)\n",
    "elif math_function == \"-\":\n",
    "    print(first_number - second_number)\n",
    "elif math_function == \"*\":\n",
    "    print(first_number * second_number)\n",
    "elif math_function == \"/\":\n",
    "    print(first_number / second_number)\n",
    "elif math_function == \"**\":\n",
    "    print(first_number ** second_number)\n",
    "else:\n",
    "    print (\"Invalid operation\")"
   ]
  },
  {
   "cell_type": "markdown",
   "metadata": {},
   "source": [
    "### Popcorn Hack #3"
   ]
  },
  {
   "cell_type": "code",
   "execution_count": 40,
   "metadata": {},
   "outputs": [
    {
     "name": "stdout",
     "output_type": "stream",
     "text": [
      "['cookiescookies', 'milkmilk', 'santasanta', 'giftsgifts']\n"
     ]
    }
   ],
   "source": [
    "def repeat_strings_in_list(strings, n): \n",
    "    result = [] # Creating array\n",
    "    for string in strings:\n",
    "        result.append(string * n)  # Repeating the string `n` times\n",
    "    return result\n",
    "\n",
    "string_list = [\"cookies\", \"milk\", \"santa\", \"gifts\"]\n",
    "print(repeat_strings_in_list(string_list, 2))"
   ]
  },
  {
   "cell_type": "markdown",
   "metadata": {},
   "source": [
    "### Popcorn Hack #4"
   ]
  },
  {
   "cell_type": "code",
   "execution_count": 39,
   "metadata": {},
   "outputs": [
    {
     "name": "stdout",
     "output_type": "stream",
     "text": [
      "True\n"
     ]
    }
   ],
   "source": [
    "def has_common_value(set1, set2):\n",
    "    return any(value in set1 for value in set2)\n",
    "\n",
    "set1 = {89, 95, 306, 524, 729}\n",
    "set2 = {95, 542, 45}\n",
    "\n",
    "if has_common_value(set1, set2):\n",
    "    print(True)\n",
    "else:\n",
    "    print(False)"
   ]
  }
 ],
 "metadata": {
  "kernelspec": {
   "display_name": "venv",
   "language": "python",
   "name": "python3"
  },
  "language_info": {
   "codemirror_mode": {
    "name": "ipython",
    "version": 3
   },
   "file_extension": ".py",
   "mimetype": "text/x-python",
   "name": "python",
   "nbconvert_exporter": "python",
   "pygments_lexer": "ipython3",
   "version": "3.12.5"
  }
 },
 "nbformat": 4,
 "nbformat_minor": 2
}
