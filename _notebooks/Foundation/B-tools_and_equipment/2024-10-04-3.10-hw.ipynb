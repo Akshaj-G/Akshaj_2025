{
 "cells": [
  {
   "cell_type": "raw",
   "metadata": {
    "vscode": {
     "languageId": "raw"
    }
   },
   "source": [
    "---\n",
    "title: 3.10 Homework\n",
    "---"
   ]
  },
  {
   "cell_type": "markdown",
   "metadata": {
    "vscode": {
     "languageId": "raw"
    }
   },
   "source": [
    "# 3.10 Lists Homework"
   ]
  },
  {
   "cell_type": "markdown",
   "metadata": {},
   "source": [
    "## 3.10.1 List Operations"
   ]
  },
  {
   "cell_type": "code",
   "execution_count": 13,
   "metadata": {},
   "outputs": [
    {
     "name": "stdout",
     "output_type": "stream",
     "text": [
      "List: ['space hamster', 'invisible penguin', 8675309, 'dancing taco', 'floating beard', 3.14159, 'sparkly vampire', 'giant rubber duck']\n",
      "Removed: dancing taco\n",
      "Updated list: ['space hamster', 'invisible penguin', 8675309, 'floating beard', 3.14159, 'sparkly vampire', 'giant rubber duck']\n"
     ]
    }
   ],
   "source": [
    "data_list = [\"space hamster\", \"invisible penguin\", 8675309, \"dancing taco\", \"floating beard\", 3.14159, \"sparkly vampire\", \"giant rubber duck\"]\n",
    "\n",
    "print(\"List:\", data_list)\n",
    "\n",
    "try:\n",
    "    index = int(input(\"Enter the index to remove: \"))\n",
    "    if 0 <= index < len(data_list):\n",
    "        print(\"Removed:\", data_list.pop(index))\n",
    "    else:\n",
    "        print(\"Invalid index.\")\n",
    "except ValueError:\n",
    "    print(\"Please enter a valid number.\")\n",
    "\n",
    "print(\"Updated list:\", data_list)"
   ]
  },
  {
   "cell_type": "markdown",
   "metadata": {},
   "source": [
    "## 3.10.2 List Pseudocode"
   ]
  },
  {
   "cell_type": "markdown",
   "metadata": {},
   "source": [
    "### Sum of Even Numbers of a list"
   ]
  },
  {
   "cell_type": "markdown",
   "metadata": {},
   "source": [
    "sum -> 15\n",
    "nums <- [1, 2, 3, 4, 5, 6, 7, 8, 9, 10, 11, 12, 13, 14, 15, ..., 29, 30]\n",
    "even_sum ← 0\n",
    "\n",
    "FOR EACH score IN nums\n",
    "    IF score MOD 2 = 0 THEN\n",
    "        even_sum ← even_sum + score\n",
    "    END IF\n",
    "END FOR\n",
    "\n",
    "DISPLAY (\"Sum of even numbers in the list:\", even_sum)\n",
    "\n",
    "This code is run in pseudocode, it cannot be directly run by any interpreter or compiler. \n",
    "However, pseudocode is meant to be easily translated into real programming languages like Python, Java, C++, etc. \n",
    "It is used to describe algorithms in a simple, readable format without worrying about syntax rules of any specific language.\n"
   ]
  },
  {
   "cell_type": "markdown",
   "metadata": {},
   "source": [
    "### Sum of Odd Numbers of a list"
   ]
  },
  {
   "cell_type": "markdown",
   "metadata": {},
   "source": [
    "sum -> 15\n",
    "nums <- [1, 2, 3, 4, 5, 6, 7, 8, 9, 10, 11, 12, 13, 14, 15, ..., 29, 30]\n",
    "odd_sum ← 0\n",
    "\n",
    "FOR EACH score IN nums\n",
    "    IF score MOD 2 = 1 THEN\n",
    "        odd_sum ← odd_sum + score\n",
    "    END IF\n",
    "END FOR\n",
    "\n",
    "DISPLAY (\"Sum of odd numbers in the list:\", odd_sum)\n",
    "\n",
    "This code is run in pseudocode, it cannot be directly run by any interpreter or compiler. \n",
    "However, pseudocode is meant to be easily translated into real programming languages like Python, Java, C++, etc. \n",
    "It is used to describe algorithms in a simple, readable format without worrying about syntax rules of any specific language."
   ]
  },
  {
   "cell_type": "markdown",
   "metadata": {},
   "source": [
    "### Interpreting In python"
   ]
  },
  {
   "cell_type": "code",
   "execution_count": 4,
   "metadata": {},
   "outputs": [
    {
     "name": "stdout",
     "output_type": "stream",
     "text": [
      "Sum of even numbers in the list: 240\n",
      "Sum of odd numbers in the list: 225\n"
     ]
    }
   ],
   "source": [
    "# Even sum\n",
    "nums = list(range(1, 31))  # This creates a list of numbers from 1 to 30\n",
    "even_sum = 0\n",
    "\n",
    "for score in nums:\n",
    "    if score % 2 == 0:\n",
    "        even_sum += score\n",
    "\n",
    "print(\"Sum of even numbers in the list:\", even_sum)\n",
    "\n",
    "# Odd sum\n",
    "nums = list(range(1, 31))  # This creates a list of numbers from 1 to 30\n",
    "odd_sum = 0\n",
    "\n",
    "for score in nums:\n",
    "    if score % 2 == 1:\n",
    "        odd_sum += score\n",
    "\n",
    "print(\"Sum of odd numbers in the list:\", odd_sum)\n",
    "\n"
   ]
  },
  {
   "cell_type": "markdown",
   "metadata": {},
   "source": [
    "## 3.10.3 List Functions"
   ]
  },
  {
   "cell_type": "code",
   "execution_count": 7,
   "metadata": {},
   "outputs": [
    {
     "name": "stdout",
     "output_type": "stream",
     "text": [
      "My favorite hobbies:\n",
      "I like to engage myself with Tennis\n",
      "I like to engage myself with Basketball\n",
      "I like to engage myself with Football\n",
      "I like to engage myself with Soccer\n",
      "I like to engage myself with playing video games\n",
      "I like to engage myself with Fishing\n",
      "I like to engage myself with Golf\n"
     ]
    }
   ],
   "source": [
    "hobbies = [\"Tennis\", \"Basketball\", \"Football\", \"Soccer\", \"playing video games\", \"Fishing\", \"Golf\"]\n",
    "\n",
    "# Loop through each hobby and print it\n",
    "print(\"My favorite hobbies:\")\n",
    "for hobby in hobbies:\n",
    "    print(\"I like to engage myself with \" + hobby)"
   ]
  },
  {
   "cell_type": "markdown",
   "metadata": {},
   "source": [
    "## 3.10.4 List Input"
   ]
  },
  {
   "cell_type": "code",
   "execution_count": 9,
   "metadata": {},
   "outputs": [
    {
     "name": "stdout",
     "output_type": "stream",
     "text": [
      "That's interesting!\n",
      "ooh that's a pretty unique opinion!\n"
     ]
    }
   ],
   "source": [
    "# List of questions with yes/no answers about daily habits\n",
    "questions = [\n",
    "    \"Do you like to play Tennis? (yes/no)\",\n",
    "    \"Do you like to play Basketball? (yes/no)\"\n",
    "]\n",
    "\n",
    "# Loop through each question and get the user's response\n",
    "for question in questions:\n",
    "    answer = input(question + \" \")  # Prompt user for their answer (yes/no)\n",
    "    \n",
    "    # Provide feedback based on the answer\n",
    "    if answer.lower() == 'yes':\n",
    "        print(\"That's interesting!\")\n",
    "    elif answer.lower() == 'no':\n",
    "        print(\"ooh that's a pretty unique opinion!\")\n",
    "    else:\n",
    "        print(\"Please answer with 'yes' or 'no'.\")"
   ]
  }
 ],
 "metadata": {
  "kernelspec": {
   "display_name": "venv",
   "language": "python",
   "name": "python3"
  },
  "language_info": {
   "codemirror_mode": {
    "name": "ipython",
    "version": 3
   },
   "file_extension": ".py",
   "mimetype": "text/x-python",
   "name": "python",
   "nbconvert_exporter": "python",
   "pygments_lexer": "ipython3",
   "version": "3.12.5"
  }
 },
 "nbformat": 4,
 "nbformat_minor": 2
}
