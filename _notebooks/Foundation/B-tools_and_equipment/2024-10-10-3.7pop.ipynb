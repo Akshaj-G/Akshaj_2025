{
 "cells": [
  {
   "cell_type": "markdown",
   "metadata": {},
   "source": [
    "# 3.7 Nested Conditionals"
   ]
  },
  {
   "cell_type": "markdown",
   "metadata": {},
   "source": [
    "## Popcorn Hack 1 in Python"
   ]
  },
  {
   "cell_type": "code",
   "execution_count": 1,
   "metadata": {},
   "outputs": [
    {
     "name": "stdout",
     "output_type": "stream",
     "text": [
      "You can go outside\n"
     ]
    }
   ],
   "source": [
    "grade = int(input(\"Enter your grade level: \"))\n",
    "outside_activity = input(\"Do you like to go outside by yourself? (yes/no): \").lower()\n",
    "\n",
    "if grade >= 8:\n",
    "    if outside_activity == \"yes\":\n",
    "        print(\"You can go outside\")\n",
    "    else:\n",
    "        print(\"Fine, you can stay home\")\n",
    "else:\n",
    "    print(\"You're too young. You can't go outside by yourself\")\n"
   ]
  },
  {
   "cell_type": "markdown",
   "metadata": {},
   "source": [
    "## Popcorn Hack 1 in Javascript"
   ]
  },
  {
   "cell_type": "code",
   "execution_count": 4,
   "metadata": {
    "vscode": {
     "languageId": "javascript"
    }
   },
   "outputs": [
    {
     "data": {
      "application/javascript": "let grade = int(input(\"Enter your grade level: \"))\noutside_activity = input(\"Do you like to go outside by yourself? (yes/no): \").lower()\n\nif grade >= 8:\n    if outside_activity == \"yes\":\n        print(\"You can go outside\")\n    else:\n        print(\"Fine, you can stay home\")\nelse:\n    print(\"You're too young. You can't go outside by yourself\")\n",
      "text/plain": [
       "<IPython.core.display.Javascript object>"
      ]
     },
     "metadata": {},
     "output_type": "display_data"
    }
   ],
   "source": [
    "%%js\n",
    "let grade = int(input(\"Enter your grade level: \"))\n",
    "outside_activity = input(\"Do you like to go outside by yourself? (yes/no): \").lower()\n",
    "\n",
    "if grade >= 8:\n",
    "    if outside_activity == \"yes\":\n",
    "        print(\"You can go outside\")\n",
    "    else:\n",
    "        print(\"Fine, you can stay home\")\n",
    "else:\n",
    "    print(\"You're too young. You can't go outside by yourself\")"
   ]
  },
  {
   "cell_type": "markdown",
   "metadata": {},
   "source": [
    "## Popcorn Hack 2 in Python"
   ]
  },
  {
   "cell_type": "code",
   "execution_count": 5,
   "metadata": {
    "vscode": {
     "languageId": "javascript"
    }
   },
   "outputs": [
    {
     "name": "stdout",
     "output_type": "stream",
     "text": [
      "You can buy an HP laptop!\n"
     ]
    }
   ],
   "source": [
    "# Savings\n",
    "savings = 1000 \n",
    "\n",
    "# Laptop prices\n",
    "dell_price = 1200\n",
    "hp_price = 900\n",
    "macbook_price = 1500\n",
    "\n",
    "# Determine which laptop you can buy\n",
    "if savings >= macbook_price:\n",
    "    print(\"You can buy a MacBook!\")\n",
    "elif savings >= dell_price:\n",
    "    print(\"You can buy a Dell laptop!\")\n",
    "elif savings >= hp_price:\n",
    "    print(\"You can buy an HP laptop!\")\n",
    "else:\n",
    "    print(\"You don't have enough money to buy a laptop.\")\n"
   ]
  },
  {
   "cell_type": "markdown",
   "metadata": {},
   "source": [
    "## Popcorn Hack 3 in Javascript"
   ]
  },
  {
   "cell_type": "code",
   "execution_count": 6,
   "metadata": {
    "vscode": {
     "languageId": "javascript"
    }
   },
   "outputs": [
    {
     "data": {
      "application/javascript": "// Grocery Conditions\nlet is_store_open = true;\nlet is_vegetables_available = false;\n\n// Shopping logic based on store and item availability\nif (is_store_open) {\n    console.log(\"You can go grocery shopping.\");\n\n    if (is_vegetables_available) {\n        console.log(\"Buy some fresh vegetables.\");\n    } else {\n        console.log(\"Check for other items on your list.\");\n    }\n} else {\n    console.log(\"The store is closed, shop another day.\");\n}\n",
      "text/plain": [
       "<IPython.core.display.Javascript object>"
      ]
     },
     "metadata": {},
     "output_type": "display_data"
    }
   ],
   "source": [
    "%%js\n",
    "// Grocery Conditions\n",
    "let is_store_open = true;\n",
    "let is_vegetables_available = false;\n",
    "\n",
    "// Shopping logic based on store and item availability\n",
    "if (is_store_open) {\n",
    "    console.log(\"You can go grocery shopping.\");\n",
    "\n",
    "    if (is_vegetables_available) {\n",
    "        console.log(\"Buy some fresh vegetables.\");\n",
    "    } else {\n",
    "        console.log(\"Check for other items on your list.\");\n",
    "    }\n",
    "} else {\n",
    "    console.log(\"The store is closed, shop another day.\");\n",
    "}"
   ]
  }
 ],
 "metadata": {
  "kernelspec": {
   "display_name": "venv",
   "language": "python",
   "name": "python3"
  },
  "language_info": {
   "codemirror_mode": {
    "name": "ipython",
    "version": 3
   },
   "file_extension": ".py",
   "mimetype": "text/x-python",
   "name": "python",
   "nbconvert_exporter": "python",
   "pygments_lexer": "ipython3",
   "version": "3.12.5"
  }
 },
 "nbformat": 4,
 "nbformat_minor": 2
}
